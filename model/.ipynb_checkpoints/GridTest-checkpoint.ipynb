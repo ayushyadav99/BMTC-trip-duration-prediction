{
 "cells": [
  {
   "cell_type": "code",
   "execution_count": 1,
   "metadata": {},
   "outputs": [],
   "source": [
    "import pandas as pd\n",
    "import numpy as np\n",
    "from sklearn.model_selection import train_test_split\n",
    "from sklearn.linear_model import LinearRegression\n",
    "import math\n",
    "from sklearn import metrics\n",
    "import warnings"
   ]
  },
  {
   "cell_type": "code",
   "execution_count": 2,
   "metadata": {},
   "outputs": [
    {
     "data": {
      "text/html": [
       "<div>\n",
       "<style scoped>\n",
       "    .dataframe tbody tr th:only-of-type {\n",
       "        vertical-align: middle;\n",
       "    }\n",
       "\n",
       "    .dataframe tbody tr th {\n",
       "        vertical-align: top;\n",
       "    }\n",
       "\n",
       "    .dataframe thead th {\n",
       "        text-align: right;\n",
       "    }\n",
       "</style>\n",
       "<table border=\"1\" class=\"dataframe\">\n",
       "  <thead>\n",
       "    <tr style=\"text-align: right;\">\n",
       "      <th></th>\n",
       "      <th>BusID</th>\n",
       "      <th>LAT1</th>\n",
       "      <th>LON1</th>\n",
       "      <th>Timestamp1</th>\n",
       "      <th>LAT2</th>\n",
       "      <th>LON2</th>\n",
       "      <th>Timestamp2</th>\n",
       "      <th>Angle</th>\n",
       "      <th>Distance</th>\n",
       "      <th>East</th>\n",
       "      <th>West</th>\n",
       "      <th>North</th>\n",
       "      <th>South</th>\n",
       "    </tr>\n",
       "  </thead>\n",
       "  <tbody>\n",
       "    <tr>\n",
       "      <th>0</th>\n",
       "      <td>150814965</td>\n",
       "      <td>12.924954</td>\n",
       "      <td>77.498886</td>\n",
       "      <td>537.48336</td>\n",
       "      <td>12.925209</td>\n",
       "      <td>77.499146</td>\n",
       "      <td>537.64998</td>\n",
       "      <td>316.329903</td>\n",
       "      <td>0.0400</td>\n",
       "      <td>1</td>\n",
       "      <td>0</td>\n",
       "      <td>0</td>\n",
       "      <td>0</td>\n",
       "    </tr>\n",
       "    <tr>\n",
       "      <th>1</th>\n",
       "      <td>150814965</td>\n",
       "      <td>12.925209</td>\n",
       "      <td>77.499146</td>\n",
       "      <td>537.64998</td>\n",
       "      <td>12.925262</td>\n",
       "      <td>77.499214</td>\n",
       "      <td>537.81666</td>\n",
       "      <td>309.776087</td>\n",
       "      <td>0.0094</td>\n",
       "      <td>0</td>\n",
       "      <td>0</td>\n",
       "      <td>0</td>\n",
       "      <td>1</td>\n",
       "    </tr>\n",
       "    <tr>\n",
       "      <th>2</th>\n",
       "      <td>150814965</td>\n",
       "      <td>12.925262</td>\n",
       "      <td>77.499214</td>\n",
       "      <td>537.81666</td>\n",
       "      <td>12.925698</td>\n",
       "      <td>77.499680</td>\n",
       "      <td>537.98334</td>\n",
       "      <td>314.986696</td>\n",
       "      <td>0.0700</td>\n",
       "      <td>0</td>\n",
       "      <td>0</td>\n",
       "      <td>0</td>\n",
       "      <td>1</td>\n",
       "    </tr>\n",
       "    <tr>\n",
       "      <th>3</th>\n",
       "      <td>150814965</td>\n",
       "      <td>12.925698</td>\n",
       "      <td>77.499680</td>\n",
       "      <td>537.98334</td>\n",
       "      <td>12.926322</td>\n",
       "      <td>77.500427</td>\n",
       "      <td>538.13334</td>\n",
       "      <td>311.754401</td>\n",
       "      <td>0.1066</td>\n",
       "      <td>0</td>\n",
       "      <td>0</td>\n",
       "      <td>0</td>\n",
       "      <td>1</td>\n",
       "    </tr>\n",
       "    <tr>\n",
       "      <th>4</th>\n",
       "      <td>150814965</td>\n",
       "      <td>12.926322</td>\n",
       "      <td>77.500427</td>\n",
       "      <td>538.13334</td>\n",
       "      <td>12.927007</td>\n",
       "      <td>77.501396</td>\n",
       "      <td>538.30002</td>\n",
       "      <td>307.077812</td>\n",
       "      <td>0.1297</td>\n",
       "      <td>0</td>\n",
       "      <td>0</td>\n",
       "      <td>0</td>\n",
       "      <td>1</td>\n",
       "    </tr>\n",
       "  </tbody>\n",
       "</table>\n",
       "</div>"
      ],
      "text/plain": [
       "       BusID       LAT1       LON1  Timestamp1       LAT2       LON2  \\\n",
       "0  150814965  12.924954  77.498886   537.48336  12.925209  77.499146   \n",
       "1  150814965  12.925209  77.499146   537.64998  12.925262  77.499214   \n",
       "2  150814965  12.925262  77.499214   537.81666  12.925698  77.499680   \n",
       "3  150814965  12.925698  77.499680   537.98334  12.926322  77.500427   \n",
       "4  150814965  12.926322  77.500427   538.13334  12.927007  77.501396   \n",
       "\n",
       "   Timestamp2       Angle  Distance  East  West  North  South  \n",
       "0   537.64998  316.329903    0.0400     1     0      0      0  \n",
       "1   537.81666  309.776087    0.0094     0     0      0      1  \n",
       "2   537.98334  314.986696    0.0700     0     0      0      1  \n",
       "3   538.13334  311.754401    0.1066     0     0      0      1  \n",
       "4   538.30002  307.077812    0.1297     0     0      0      1  "
      ]
     },
     "execution_count": 2,
     "metadata": {},
     "output_type": "execute_result"
    }
   ],
   "source": [
    "df = pd.read_csv(\"grid.csv\")\n",
    "df.head()"
   ]
  },
  {
   "cell_type": "code",
   "execution_count": 3,
   "metadata": {},
   "outputs": [
    {
     "data": {
      "text/html": [
       "<div>\n",
       "<style scoped>\n",
       "    .dataframe tbody tr th:only-of-type {\n",
       "        vertical-align: middle;\n",
       "    }\n",
       "\n",
       "    .dataframe tbody tr th {\n",
       "        vertical-align: top;\n",
       "    }\n",
       "\n",
       "    .dataframe thead th {\n",
       "        text-align: right;\n",
       "    }\n",
       "</style>\n",
       "<table border=\"1\" class=\"dataframe\">\n",
       "  <thead>\n",
       "    <tr style=\"text-align: right;\">\n",
       "      <th></th>\n",
       "      <th>BusID</th>\n",
       "      <th>LAT1</th>\n",
       "      <th>LON1</th>\n",
       "      <th>Timestamp1</th>\n",
       "      <th>LAT2</th>\n",
       "      <th>LON2</th>\n",
       "      <th>Timestamp2</th>\n",
       "      <th>Angle</th>\n",
       "      <th>Distance</th>\n",
       "      <th>East</th>\n",
       "      <th>West</th>\n",
       "      <th>North</th>\n",
       "      <th>South</th>\n",
       "      <th>Duration</th>\n",
       "    </tr>\n",
       "  </thead>\n",
       "  <tbody>\n",
       "    <tr>\n",
       "      <th>0</th>\n",
       "      <td>150814965</td>\n",
       "      <td>12.924954</td>\n",
       "      <td>77.498886</td>\n",
       "      <td>537.48336</td>\n",
       "      <td>12.925209</td>\n",
       "      <td>77.499146</td>\n",
       "      <td>537.64998</td>\n",
       "      <td>316.329903</td>\n",
       "      <td>0.0400</td>\n",
       "      <td>1</td>\n",
       "      <td>0</td>\n",
       "      <td>0</td>\n",
       "      <td>0</td>\n",
       "      <td>9.9972</td>\n",
       "    </tr>\n",
       "    <tr>\n",
       "      <th>1</th>\n",
       "      <td>150814965</td>\n",
       "      <td>12.925209</td>\n",
       "      <td>77.499146</td>\n",
       "      <td>537.64998</td>\n",
       "      <td>12.925262</td>\n",
       "      <td>77.499214</td>\n",
       "      <td>537.81666</td>\n",
       "      <td>309.776087</td>\n",
       "      <td>0.0094</td>\n",
       "      <td>0</td>\n",
       "      <td>0</td>\n",
       "      <td>0</td>\n",
       "      <td>1</td>\n",
       "      <td>10.0008</td>\n",
       "    </tr>\n",
       "    <tr>\n",
       "      <th>2</th>\n",
       "      <td>150814965</td>\n",
       "      <td>12.925262</td>\n",
       "      <td>77.499214</td>\n",
       "      <td>537.81666</td>\n",
       "      <td>12.925698</td>\n",
       "      <td>77.499680</td>\n",
       "      <td>537.98334</td>\n",
       "      <td>314.986696</td>\n",
       "      <td>0.0700</td>\n",
       "      <td>0</td>\n",
       "      <td>0</td>\n",
       "      <td>0</td>\n",
       "      <td>1</td>\n",
       "      <td>10.0008</td>\n",
       "    </tr>\n",
       "    <tr>\n",
       "      <th>3</th>\n",
       "      <td>150814965</td>\n",
       "      <td>12.925698</td>\n",
       "      <td>77.499680</td>\n",
       "      <td>537.98334</td>\n",
       "      <td>12.926322</td>\n",
       "      <td>77.500427</td>\n",
       "      <td>538.13334</td>\n",
       "      <td>311.754401</td>\n",
       "      <td>0.1066</td>\n",
       "      <td>0</td>\n",
       "      <td>0</td>\n",
       "      <td>0</td>\n",
       "      <td>1</td>\n",
       "      <td>9.0000</td>\n",
       "    </tr>\n",
       "    <tr>\n",
       "      <th>4</th>\n",
       "      <td>150814965</td>\n",
       "      <td>12.926322</td>\n",
       "      <td>77.500427</td>\n",
       "      <td>538.13334</td>\n",
       "      <td>12.927007</td>\n",
       "      <td>77.501396</td>\n",
       "      <td>538.30002</td>\n",
       "      <td>307.077812</td>\n",
       "      <td>0.1297</td>\n",
       "      <td>0</td>\n",
       "      <td>0</td>\n",
       "      <td>0</td>\n",
       "      <td>1</td>\n",
       "      <td>10.0008</td>\n",
       "    </tr>\n",
       "  </tbody>\n",
       "</table>\n",
       "</div>"
      ],
      "text/plain": [
       "       BusID       LAT1       LON1  Timestamp1       LAT2       LON2  \\\n",
       "0  150814965  12.924954  77.498886   537.48336  12.925209  77.499146   \n",
       "1  150814965  12.925209  77.499146   537.64998  12.925262  77.499214   \n",
       "2  150814965  12.925262  77.499214   537.81666  12.925698  77.499680   \n",
       "3  150814965  12.925698  77.499680   537.98334  12.926322  77.500427   \n",
       "4  150814965  12.926322  77.500427   538.13334  12.927007  77.501396   \n",
       "\n",
       "   Timestamp2       Angle  Distance  East  West  North  South  Duration  \n",
       "0   537.64998  316.329903    0.0400     1     0      0      0    9.9972  \n",
       "1   537.81666  309.776087    0.0094     0     0      0      1   10.0008  \n",
       "2   537.98334  314.986696    0.0700     0     0      0      1   10.0008  \n",
       "3   538.13334  311.754401    0.1066     0     0      0      1    9.0000  \n",
       "4   538.30002  307.077812    0.1297     0     0      0      1   10.0008  "
      ]
     },
     "execution_count": 3,
     "metadata": {},
     "output_type": "execute_result"
    }
   ],
   "source": [
    "df[\"Duration\"] = (df[\"Timestamp2\"] - df[\"Timestamp1\"])*60\n",
    "df.head() "
   ]
  },
  {
   "cell_type": "code",
   "execution_count": 4,
   "metadata": {},
   "outputs": [],
   "source": [
    "indexNames  =  df[df[\"Duration\"]<=0].index\n",
    "df = df.drop(indexNames, inplace = False)"
   ]
  },
  {
   "cell_type": "code",
   "execution_count": 5,
   "metadata": {},
   "outputs": [
    {
     "data": {
      "text/html": [
       "<div>\n",
       "<style scoped>\n",
       "    .dataframe tbody tr th:only-of-type {\n",
       "        vertical-align: middle;\n",
       "    }\n",
       "\n",
       "    .dataframe tbody tr th {\n",
       "        vertical-align: top;\n",
       "    }\n",
       "\n",
       "    .dataframe thead th {\n",
       "        text-align: right;\n",
       "    }\n",
       "</style>\n",
       "<table border=\"1\" class=\"dataframe\">\n",
       "  <thead>\n",
       "    <tr style=\"text-align: right;\">\n",
       "      <th></th>\n",
       "      <th>BusID</th>\n",
       "      <th>LAT1</th>\n",
       "      <th>LON1</th>\n",
       "      <th>Timestamp1</th>\n",
       "      <th>LAT2</th>\n",
       "      <th>LON2</th>\n",
       "      <th>Timestamp2</th>\n",
       "      <th>Angle</th>\n",
       "      <th>Distance</th>\n",
       "      <th>East</th>\n",
       "      <th>West</th>\n",
       "      <th>North</th>\n",
       "      <th>South</th>\n",
       "      <th>Duration</th>\n",
       "    </tr>\n",
       "  </thead>\n",
       "  <tbody>\n",
       "    <tr>\n",
       "      <th>0</th>\n",
       "      <td>150814965</td>\n",
       "      <td>12.924954</td>\n",
       "      <td>77.498886</td>\n",
       "      <td>537.48336</td>\n",
       "      <td>12.925209</td>\n",
       "      <td>77.499146</td>\n",
       "      <td>537.64998</td>\n",
       "      <td>316.329903</td>\n",
       "      <td>40.0</td>\n",
       "      <td>1</td>\n",
       "      <td>0</td>\n",
       "      <td>0</td>\n",
       "      <td>0</td>\n",
       "      <td>9.9972</td>\n",
       "    </tr>\n",
       "    <tr>\n",
       "      <th>1</th>\n",
       "      <td>150814965</td>\n",
       "      <td>12.925209</td>\n",
       "      <td>77.499146</td>\n",
       "      <td>537.64998</td>\n",
       "      <td>12.925262</td>\n",
       "      <td>77.499214</td>\n",
       "      <td>537.81666</td>\n",
       "      <td>309.776087</td>\n",
       "      <td>9.4</td>\n",
       "      <td>0</td>\n",
       "      <td>0</td>\n",
       "      <td>0</td>\n",
       "      <td>1</td>\n",
       "      <td>10.0008</td>\n",
       "    </tr>\n",
       "    <tr>\n",
       "      <th>2</th>\n",
       "      <td>150814965</td>\n",
       "      <td>12.925262</td>\n",
       "      <td>77.499214</td>\n",
       "      <td>537.81666</td>\n",
       "      <td>12.925698</td>\n",
       "      <td>77.499680</td>\n",
       "      <td>537.98334</td>\n",
       "      <td>314.986696</td>\n",
       "      <td>70.0</td>\n",
       "      <td>0</td>\n",
       "      <td>0</td>\n",
       "      <td>0</td>\n",
       "      <td>1</td>\n",
       "      <td>10.0008</td>\n",
       "    </tr>\n",
       "    <tr>\n",
       "      <th>3</th>\n",
       "      <td>150814965</td>\n",
       "      <td>12.925698</td>\n",
       "      <td>77.499680</td>\n",
       "      <td>537.98334</td>\n",
       "      <td>12.926322</td>\n",
       "      <td>77.500427</td>\n",
       "      <td>538.13334</td>\n",
       "      <td>311.754401</td>\n",
       "      <td>106.6</td>\n",
       "      <td>0</td>\n",
       "      <td>0</td>\n",
       "      <td>0</td>\n",
       "      <td>1</td>\n",
       "      <td>9.0000</td>\n",
       "    </tr>\n",
       "    <tr>\n",
       "      <th>4</th>\n",
       "      <td>150814965</td>\n",
       "      <td>12.926322</td>\n",
       "      <td>77.500427</td>\n",
       "      <td>538.13334</td>\n",
       "      <td>12.927007</td>\n",
       "      <td>77.501396</td>\n",
       "      <td>538.30002</td>\n",
       "      <td>307.077812</td>\n",
       "      <td>129.7</td>\n",
       "      <td>0</td>\n",
       "      <td>0</td>\n",
       "      <td>0</td>\n",
       "      <td>1</td>\n",
       "      <td>10.0008</td>\n",
       "    </tr>\n",
       "  </tbody>\n",
       "</table>\n",
       "</div>"
      ],
      "text/plain": [
       "       BusID       LAT1       LON1  Timestamp1       LAT2       LON2  \\\n",
       "0  150814965  12.924954  77.498886   537.48336  12.925209  77.499146   \n",
       "1  150814965  12.925209  77.499146   537.64998  12.925262  77.499214   \n",
       "2  150814965  12.925262  77.499214   537.81666  12.925698  77.499680   \n",
       "3  150814965  12.925698  77.499680   537.98334  12.926322  77.500427   \n",
       "4  150814965  12.926322  77.500427   538.13334  12.927007  77.501396   \n",
       "\n",
       "   Timestamp2       Angle  Distance  East  West  North  South  Duration  \n",
       "0   537.64998  316.329903      40.0     1     0      0      0    9.9972  \n",
       "1   537.81666  309.776087       9.4     0     0      0      1   10.0008  \n",
       "2   537.98334  314.986696      70.0     0     0      0      1   10.0008  \n",
       "3   538.13334  311.754401     106.6     0     0      0      1    9.0000  \n",
       "4   538.30002  307.077812     129.7     0     0      0      1   10.0008  "
      ]
     },
     "execution_count": 5,
     "metadata": {},
     "output_type": "execute_result"
    }
   ],
   "source": [
    "df[\"Distance\"] = df[\"Distance\"] * 1000 #Distance in meters\n",
    "df.head()"
   ]
  },
  {
   "cell_type": "code",
   "execution_count": 6,
   "metadata": {},
   "outputs": [
    {
     "data": {
      "text/html": [
       "<div>\n",
       "<style scoped>\n",
       "    .dataframe tbody tr th:only-of-type {\n",
       "        vertical-align: middle;\n",
       "    }\n",
       "\n",
       "    .dataframe tbody tr th {\n",
       "        vertical-align: top;\n",
       "    }\n",
       "\n",
       "    .dataframe thead th {\n",
       "        text-align: right;\n",
       "    }\n",
       "</style>\n",
       "<table border=\"1\" class=\"dataframe\">\n",
       "  <thead>\n",
       "    <tr style=\"text-align: right;\">\n",
       "      <th></th>\n",
       "      <th>BusID</th>\n",
       "      <th>LAT1</th>\n",
       "      <th>LON1</th>\n",
       "      <th>Timestamp1</th>\n",
       "      <th>LAT2</th>\n",
       "      <th>LON2</th>\n",
       "      <th>Timestamp2</th>\n",
       "      <th>Angle</th>\n",
       "      <th>Distance</th>\n",
       "      <th>East</th>\n",
       "      <th>West</th>\n",
       "      <th>North</th>\n",
       "      <th>South</th>\n",
       "      <th>Duration</th>\n",
       "      <th>Speed</th>\n",
       "    </tr>\n",
       "  </thead>\n",
       "  <tbody>\n",
       "    <tr>\n",
       "      <th>0</th>\n",
       "      <td>150814965</td>\n",
       "      <td>12.924954</td>\n",
       "      <td>77.498886</td>\n",
       "      <td>537.48336</td>\n",
       "      <td>12.925209</td>\n",
       "      <td>77.499146</td>\n",
       "      <td>537.64998</td>\n",
       "      <td>316.329903</td>\n",
       "      <td>40.0</td>\n",
       "      <td>1</td>\n",
       "      <td>0</td>\n",
       "      <td>0</td>\n",
       "      <td>0</td>\n",
       "      <td>9.9972</td>\n",
       "      <td>4.001120</td>\n",
       "    </tr>\n",
       "    <tr>\n",
       "      <th>1</th>\n",
       "      <td>150814965</td>\n",
       "      <td>12.925209</td>\n",
       "      <td>77.499146</td>\n",
       "      <td>537.64998</td>\n",
       "      <td>12.925262</td>\n",
       "      <td>77.499214</td>\n",
       "      <td>537.81666</td>\n",
       "      <td>309.776087</td>\n",
       "      <td>9.4</td>\n",
       "      <td>0</td>\n",
       "      <td>0</td>\n",
       "      <td>0</td>\n",
       "      <td>1</td>\n",
       "      <td>10.0008</td>\n",
       "      <td>0.939925</td>\n",
       "    </tr>\n",
       "    <tr>\n",
       "      <th>2</th>\n",
       "      <td>150814965</td>\n",
       "      <td>12.925262</td>\n",
       "      <td>77.499214</td>\n",
       "      <td>537.81666</td>\n",
       "      <td>12.925698</td>\n",
       "      <td>77.499680</td>\n",
       "      <td>537.98334</td>\n",
       "      <td>314.986696</td>\n",
       "      <td>70.0</td>\n",
       "      <td>0</td>\n",
       "      <td>0</td>\n",
       "      <td>0</td>\n",
       "      <td>1</td>\n",
       "      <td>10.0008</td>\n",
       "      <td>6.999440</td>\n",
       "    </tr>\n",
       "    <tr>\n",
       "      <th>3</th>\n",
       "      <td>150814965</td>\n",
       "      <td>12.925698</td>\n",
       "      <td>77.499680</td>\n",
       "      <td>537.98334</td>\n",
       "      <td>12.926322</td>\n",
       "      <td>77.500427</td>\n",
       "      <td>538.13334</td>\n",
       "      <td>311.754401</td>\n",
       "      <td>106.6</td>\n",
       "      <td>0</td>\n",
       "      <td>0</td>\n",
       "      <td>0</td>\n",
       "      <td>1</td>\n",
       "      <td>9.0000</td>\n",
       "      <td>11.844444</td>\n",
       "    </tr>\n",
       "    <tr>\n",
       "      <th>4</th>\n",
       "      <td>150814965</td>\n",
       "      <td>12.926322</td>\n",
       "      <td>77.500427</td>\n",
       "      <td>538.13334</td>\n",
       "      <td>12.927007</td>\n",
       "      <td>77.501396</td>\n",
       "      <td>538.30002</td>\n",
       "      <td>307.077812</td>\n",
       "      <td>129.7</td>\n",
       "      <td>0</td>\n",
       "      <td>0</td>\n",
       "      <td>0</td>\n",
       "      <td>1</td>\n",
       "      <td>10.0008</td>\n",
       "      <td>12.968962</td>\n",
       "    </tr>\n",
       "  </tbody>\n",
       "</table>\n",
       "</div>"
      ],
      "text/plain": [
       "       BusID       LAT1       LON1  Timestamp1       LAT2       LON2  \\\n",
       "0  150814965  12.924954  77.498886   537.48336  12.925209  77.499146   \n",
       "1  150814965  12.925209  77.499146   537.64998  12.925262  77.499214   \n",
       "2  150814965  12.925262  77.499214   537.81666  12.925698  77.499680   \n",
       "3  150814965  12.925698  77.499680   537.98334  12.926322  77.500427   \n",
       "4  150814965  12.926322  77.500427   538.13334  12.927007  77.501396   \n",
       "\n",
       "   Timestamp2       Angle  Distance  East  West  North  South  Duration  \\\n",
       "0   537.64998  316.329903      40.0     1     0      0      0    9.9972   \n",
       "1   537.81666  309.776087       9.4     0     0      0      1   10.0008   \n",
       "2   537.98334  314.986696      70.0     0     0      0      1   10.0008   \n",
       "3   538.13334  311.754401     106.6     0     0      0      1    9.0000   \n",
       "4   538.30002  307.077812     129.7     0     0      0      1   10.0008   \n",
       "\n",
       "       Speed  \n",
       "0   4.001120  \n",
       "1   0.939925  \n",
       "2   6.999440  \n",
       "3  11.844444  \n",
       "4  12.968962  "
      ]
     },
     "execution_count": 6,
     "metadata": {},
     "output_type": "execute_result"
    }
   ],
   "source": [
    "df[\"Speed\"] = df[\"Distance\"] / df[\"Duration\"] #in m/s\n",
    "df.head()"
   ]
  },
  {
   "cell_type": "code",
   "execution_count": 7,
   "metadata": {},
   "outputs": [
    {
     "data": {
      "text/html": [
       "<div>\n",
       "<style scoped>\n",
       "    .dataframe tbody tr th:only-of-type {\n",
       "        vertical-align: middle;\n",
       "    }\n",
       "\n",
       "    .dataframe tbody tr th {\n",
       "        vertical-align: top;\n",
       "    }\n",
       "\n",
       "    .dataframe thead th {\n",
       "        text-align: right;\n",
       "    }\n",
       "</style>\n",
       "<table border=\"1\" class=\"dataframe\">\n",
       "  <thead>\n",
       "    <tr style=\"text-align: right;\">\n",
       "      <th></th>\n",
       "      <th>BusID</th>\n",
       "      <th>LAT1</th>\n",
       "      <th>LON1</th>\n",
       "      <th>Timestamp1</th>\n",
       "      <th>LAT2</th>\n",
       "      <th>LON2</th>\n",
       "      <th>Timestamp2</th>\n",
       "      <th>Angle</th>\n",
       "      <th>Distance</th>\n",
       "      <th>East</th>\n",
       "      <th>West</th>\n",
       "      <th>North</th>\n",
       "      <th>South</th>\n",
       "      <th>Duration</th>\n",
       "      <th>Speed</th>\n",
       "    </tr>\n",
       "  </thead>\n",
       "  <tbody>\n",
       "    <tr>\n",
       "      <th>count</th>\n",
       "      <td>9.891800e+04</td>\n",
       "      <td>98918.000000</td>\n",
       "      <td>98918.000000</td>\n",
       "      <td>98918.000000</td>\n",
       "      <td>98918.000000</td>\n",
       "      <td>98918.000000</td>\n",
       "      <td>98918.000000</td>\n",
       "      <td>98918.000000</td>\n",
       "      <td>98918.000000</td>\n",
       "      <td>98918.000000</td>\n",
       "      <td>98918.000000</td>\n",
       "      <td>98918.000000</td>\n",
       "      <td>98918.000000</td>\n",
       "      <td>98918.000000</td>\n",
       "      <td>98918.000000</td>\n",
       "    </tr>\n",
       "    <tr>\n",
       "      <th>mean</th>\n",
       "      <td>6.972525e+08</td>\n",
       "      <td>12.888404</td>\n",
       "      <td>77.470886</td>\n",
       "      <td>804.801291</td>\n",
       "      <td>12.888403</td>\n",
       "      <td>77.470885</td>\n",
       "      <td>805.038965</td>\n",
       "      <td>263.409480</td>\n",
       "      <td>40.231624</td>\n",
       "      <td>0.837017</td>\n",
       "      <td>0.160759</td>\n",
       "      <td>0.155048</td>\n",
       "      <td>0.162983</td>\n",
       "      <td>14.260458</td>\n",
       "      <td>4.055173</td>\n",
       "    </tr>\n",
       "    <tr>\n",
       "      <th>std</th>\n",
       "      <td>6.635083e+08</td>\n",
       "      <td>0.069759</td>\n",
       "      <td>0.068479</td>\n",
       "      <td>328.572254</td>\n",
       "      <td>0.069759</td>\n",
       "      <td>0.068480</td>\n",
       "      <td>328.515312</td>\n",
       "      <td>108.935686</td>\n",
       "      <td>54.804201</td>\n",
       "      <td>0.369352</td>\n",
       "      <td>0.367311</td>\n",
       "      <td>0.361952</td>\n",
       "      <td>0.369352</td>\n",
       "      <td>75.548347</td>\n",
       "      <td>5.046938</td>\n",
       "    </tr>\n",
       "    <tr>\n",
       "      <th>min</th>\n",
       "      <td>1.508150e+08</td>\n",
       "      <td>12.765992</td>\n",
       "      <td>77.311600</td>\n",
       "      <td>1.099980</td>\n",
       "      <td>12.765992</td>\n",
       "      <td>77.311600</td>\n",
       "      <td>11.400000</td>\n",
       "      <td>0.321771</td>\n",
       "      <td>0.000000</td>\n",
       "      <td>0.000000</td>\n",
       "      <td>0.000000</td>\n",
       "      <td>0.000000</td>\n",
       "      <td>0.000000</td>\n",
       "      <td>0.997200</td>\n",
       "      <td>0.000000</td>\n",
       "    </tr>\n",
       "    <tr>\n",
       "      <th>25%</th>\n",
       "      <td>1.508150e+08</td>\n",
       "      <td>12.806345</td>\n",
       "      <td>77.413818</td>\n",
       "      <td>544.854150</td>\n",
       "      <td>12.806322</td>\n",
       "      <td>77.413818</td>\n",
       "      <td>545.020830</td>\n",
       "      <td>152.522462</td>\n",
       "      <td>0.000000</td>\n",
       "      <td>1.000000</td>\n",
       "      <td>0.000000</td>\n",
       "      <td>0.000000</td>\n",
       "      <td>0.000000</td>\n",
       "      <td>9.997200</td>\n",
       "      <td>0.000000</td>\n",
       "    </tr>\n",
       "    <tr>\n",
       "      <th>50%</th>\n",
       "      <td>1.508150e+08</td>\n",
       "      <td>12.913008</td>\n",
       "      <td>77.484924</td>\n",
       "      <td>808.374990</td>\n",
       "      <td>12.913007</td>\n",
       "      <td>77.484924</td>\n",
       "      <td>808.583340</td>\n",
       "      <td>312.756259</td>\n",
       "      <td>14.100000</td>\n",
       "      <td>1.000000</td>\n",
       "      <td>0.000000</td>\n",
       "      <td>0.000000</td>\n",
       "      <td>0.000000</td>\n",
       "      <td>10.000800</td>\n",
       "      <td>1.419886</td>\n",
       "    </tr>\n",
       "    <tr>\n",
       "      <th>75%</th>\n",
       "      <td>1.502905e+09</td>\n",
       "      <td>12.944150</td>\n",
       "      <td>77.530403</td>\n",
       "      <td>1086.750000</td>\n",
       "      <td>12.944150</td>\n",
       "      <td>77.530403</td>\n",
       "      <td>1086.945825</td>\n",
       "      <td>360.000000</td>\n",
       "      <td>75.800000</td>\n",
       "      <td>1.000000</td>\n",
       "      <td>0.000000</td>\n",
       "      <td>0.000000</td>\n",
       "      <td>0.000000</td>\n",
       "      <td>10.000800</td>\n",
       "      <td>7.658429</td>\n",
       "    </tr>\n",
       "    <tr>\n",
       "      <th>max</th>\n",
       "      <td>1.502905e+09</td>\n",
       "      <td>12.978695</td>\n",
       "      <td>77.580170</td>\n",
       "      <td>1439.316660</td>\n",
       "      <td>12.978695</td>\n",
       "      <td>77.580170</td>\n",
       "      <td>1439.483340</td>\n",
       "      <td>360.000000</td>\n",
       "      <td>5815.400000</td>\n",
       "      <td>1.000000</td>\n",
       "      <td>1.000000</td>\n",
       "      <td>1.000000</td>\n",
       "      <td>1.000000</td>\n",
       "      <td>3585.999600</td>\n",
       "      <td>227.943824</td>\n",
       "    </tr>\n",
       "  </tbody>\n",
       "</table>\n",
       "</div>"
      ],
      "text/plain": [
       "              BusID          LAT1          LON1    Timestamp1          LAT2  \\\n",
       "count  9.891800e+04  98918.000000  98918.000000  98918.000000  98918.000000   \n",
       "mean   6.972525e+08     12.888404     77.470886    804.801291     12.888403   \n",
       "std    6.635083e+08      0.069759      0.068479    328.572254      0.069759   \n",
       "min    1.508150e+08     12.765992     77.311600      1.099980     12.765992   \n",
       "25%    1.508150e+08     12.806345     77.413818    544.854150     12.806322   \n",
       "50%    1.508150e+08     12.913008     77.484924    808.374990     12.913007   \n",
       "75%    1.502905e+09     12.944150     77.530403   1086.750000     12.944150   \n",
       "max    1.502905e+09     12.978695     77.580170   1439.316660     12.978695   \n",
       "\n",
       "               LON2    Timestamp2         Angle      Distance          East  \\\n",
       "count  98918.000000  98918.000000  98918.000000  98918.000000  98918.000000   \n",
       "mean      77.470885    805.038965    263.409480     40.231624      0.837017   \n",
       "std        0.068480    328.515312    108.935686     54.804201      0.369352   \n",
       "min       77.311600     11.400000      0.321771      0.000000      0.000000   \n",
       "25%       77.413818    545.020830    152.522462      0.000000      1.000000   \n",
       "50%       77.484924    808.583340    312.756259     14.100000      1.000000   \n",
       "75%       77.530403   1086.945825    360.000000     75.800000      1.000000   \n",
       "max       77.580170   1439.483340    360.000000   5815.400000      1.000000   \n",
       "\n",
       "               West         North         South      Duration         Speed  \n",
       "count  98918.000000  98918.000000  98918.000000  98918.000000  98918.000000  \n",
       "mean       0.160759      0.155048      0.162983     14.260458      4.055173  \n",
       "std        0.367311      0.361952      0.369352     75.548347      5.046938  \n",
       "min        0.000000      0.000000      0.000000      0.997200      0.000000  \n",
       "25%        0.000000      0.000000      0.000000      9.997200      0.000000  \n",
       "50%        0.000000      0.000000      0.000000     10.000800      1.419886  \n",
       "75%        0.000000      0.000000      0.000000     10.000800      7.658429  \n",
       "max        1.000000      1.000000      1.000000   3585.999600    227.943824  "
      ]
     },
     "execution_count": 7,
     "metadata": {},
     "output_type": "execute_result"
    }
   ],
   "source": [
    "df.describe()"
   ]
  },
  {
   "cell_type": "code",
   "execution_count": 8,
   "metadata": {},
   "outputs": [
    {
     "data": {
      "text/html": [
       "<div>\n",
       "<style scoped>\n",
       "    .dataframe tbody tr th:only-of-type {\n",
       "        vertical-align: middle;\n",
       "    }\n",
       "\n",
       "    .dataframe tbody tr th {\n",
       "        vertical-align: top;\n",
       "    }\n",
       "\n",
       "    .dataframe thead th {\n",
       "        text-align: right;\n",
       "    }\n",
       "</style>\n",
       "<table border=\"1\" class=\"dataframe\">\n",
       "  <thead>\n",
       "    <tr style=\"text-align: right;\">\n",
       "      <th></th>\n",
       "      <th>LAT1</th>\n",
       "      <th>LON1</th>\n",
       "      <th>Timestamp1</th>\n",
       "      <th>LAT2</th>\n",
       "      <th>LON2</th>\n",
       "      <th>Angle</th>\n",
       "      <th>East</th>\n",
       "      <th>West</th>\n",
       "      <th>North</th>\n",
       "      <th>South</th>\n",
       "    </tr>\n",
       "  </thead>\n",
       "  <tbody>\n",
       "    <tr>\n",
       "      <th>count</th>\n",
       "      <td>98918.000000</td>\n",
       "      <td>98918.000000</td>\n",
       "      <td>98918.000000</td>\n",
       "      <td>98918.000000</td>\n",
       "      <td>98918.000000</td>\n",
       "      <td>98918.000000</td>\n",
       "      <td>98918.000000</td>\n",
       "      <td>98918.000000</td>\n",
       "      <td>98918.000000</td>\n",
       "      <td>98918.000000</td>\n",
       "    </tr>\n",
       "    <tr>\n",
       "      <th>mean</th>\n",
       "      <td>12.888404</td>\n",
       "      <td>77.470886</td>\n",
       "      <td>804.801291</td>\n",
       "      <td>12.888403</td>\n",
       "      <td>77.470885</td>\n",
       "      <td>263.409480</td>\n",
       "      <td>0.837017</td>\n",
       "      <td>0.160759</td>\n",
       "      <td>0.155048</td>\n",
       "      <td>0.162983</td>\n",
       "    </tr>\n",
       "    <tr>\n",
       "      <th>std</th>\n",
       "      <td>0.069759</td>\n",
       "      <td>0.068479</td>\n",
       "      <td>328.572254</td>\n",
       "      <td>0.069759</td>\n",
       "      <td>0.068480</td>\n",
       "      <td>108.935686</td>\n",
       "      <td>0.369352</td>\n",
       "      <td>0.367311</td>\n",
       "      <td>0.361952</td>\n",
       "      <td>0.369352</td>\n",
       "    </tr>\n",
       "    <tr>\n",
       "      <th>min</th>\n",
       "      <td>12.765992</td>\n",
       "      <td>77.311600</td>\n",
       "      <td>1.099980</td>\n",
       "      <td>12.765992</td>\n",
       "      <td>77.311600</td>\n",
       "      <td>0.321771</td>\n",
       "      <td>0.000000</td>\n",
       "      <td>0.000000</td>\n",
       "      <td>0.000000</td>\n",
       "      <td>0.000000</td>\n",
       "    </tr>\n",
       "    <tr>\n",
       "      <th>25%</th>\n",
       "      <td>12.806345</td>\n",
       "      <td>77.413818</td>\n",
       "      <td>544.854150</td>\n",
       "      <td>12.806322</td>\n",
       "      <td>77.413818</td>\n",
       "      <td>152.522462</td>\n",
       "      <td>1.000000</td>\n",
       "      <td>0.000000</td>\n",
       "      <td>0.000000</td>\n",
       "      <td>0.000000</td>\n",
       "    </tr>\n",
       "    <tr>\n",
       "      <th>50%</th>\n",
       "      <td>12.913008</td>\n",
       "      <td>77.484924</td>\n",
       "      <td>808.374990</td>\n",
       "      <td>12.913007</td>\n",
       "      <td>77.484924</td>\n",
       "      <td>312.756259</td>\n",
       "      <td>1.000000</td>\n",
       "      <td>0.000000</td>\n",
       "      <td>0.000000</td>\n",
       "      <td>0.000000</td>\n",
       "    </tr>\n",
       "    <tr>\n",
       "      <th>75%</th>\n",
       "      <td>12.944150</td>\n",
       "      <td>77.530403</td>\n",
       "      <td>1086.750000</td>\n",
       "      <td>12.944150</td>\n",
       "      <td>77.530403</td>\n",
       "      <td>360.000000</td>\n",
       "      <td>1.000000</td>\n",
       "      <td>0.000000</td>\n",
       "      <td>0.000000</td>\n",
       "      <td>0.000000</td>\n",
       "    </tr>\n",
       "    <tr>\n",
       "      <th>max</th>\n",
       "      <td>12.978695</td>\n",
       "      <td>77.580170</td>\n",
       "      <td>1439.316660</td>\n",
       "      <td>12.978695</td>\n",
       "      <td>77.580170</td>\n",
       "      <td>360.000000</td>\n",
       "      <td>1.000000</td>\n",
       "      <td>1.000000</td>\n",
       "      <td>1.000000</td>\n",
       "      <td>1.000000</td>\n",
       "    </tr>\n",
       "  </tbody>\n",
       "</table>\n",
       "</div>"
      ],
      "text/plain": [
       "               LAT1          LON1    Timestamp1          LAT2          LON2  \\\n",
       "count  98918.000000  98918.000000  98918.000000  98918.000000  98918.000000   \n",
       "mean      12.888404     77.470886    804.801291     12.888403     77.470885   \n",
       "std        0.069759      0.068479    328.572254      0.069759      0.068480   \n",
       "min       12.765992     77.311600      1.099980     12.765992     77.311600   \n",
       "25%       12.806345     77.413818    544.854150     12.806322     77.413818   \n",
       "50%       12.913008     77.484924    808.374990     12.913007     77.484924   \n",
       "75%       12.944150     77.530403   1086.750000     12.944150     77.530403   \n",
       "max       12.978695     77.580170   1439.316660     12.978695     77.580170   \n",
       "\n",
       "              Angle          East          West         North         South  \n",
       "count  98918.000000  98918.000000  98918.000000  98918.000000  98918.000000  \n",
       "mean     263.409480      0.837017      0.160759      0.155048      0.162983  \n",
       "std      108.935686      0.369352      0.367311      0.361952      0.369352  \n",
       "min        0.321771      0.000000      0.000000      0.000000      0.000000  \n",
       "25%      152.522462      1.000000      0.000000      0.000000      0.000000  \n",
       "50%      312.756259      1.000000      0.000000      0.000000      0.000000  \n",
       "75%      360.000000      1.000000      0.000000      0.000000      0.000000  \n",
       "max      360.000000      1.000000      1.000000      1.000000      1.000000  "
      ]
     },
     "execution_count": 8,
     "metadata": {},
     "output_type": "execute_result"
    }
   ],
   "source": [
    "columns = [\"LAT1\", \"LON1\", \"Timestamp1\", \"LAT2\", \"LON2\", \"Angle\", \"East\", \"West\", \"North\", \"South\"]\n",
    "X = df[columns]\n",
    "X.describe()"
   ]
  },
  {
   "cell_type": "code",
   "execution_count": 9,
   "metadata": {},
   "outputs": [
    {
     "data": {
      "text/plain": [
       "0     4.001120\n",
       "1     0.939925\n",
       "2     6.999440\n",
       "3    11.844444\n",
       "4    12.968962\n",
       "Name: Speed, dtype: float64"
      ]
     },
     "execution_count": 9,
     "metadata": {},
     "output_type": "execute_result"
    }
   ],
   "source": [
    "y = df[\"Speed\"]\n",
    "y.head()"
   ]
  },
  {
   "cell_type": "code",
   "execution_count": 10,
   "metadata": {},
   "outputs": [],
   "source": [
    "train_X, val_X, train_y, val_y = train_test_split(X, y, random_state = 0)"
   ]
  },
  {
   "cell_type": "code",
   "execution_count": 11,
   "metadata": {},
   "outputs": [
    {
     "data": {
      "text/plain": [
       "4.166912616323895"
      ]
     },
     "execution_count": 11,
     "metadata": {},
     "output_type": "execute_result"
    }
   ],
   "source": [
    "model = LinearRegression()\n",
    "model.fit(train_X, train_y)\n",
    "preds = model.predict(val_X)\n",
    "np.sqrt(metrics.mean_squared_error(val_y, preds))"
   ]
  },
  {
   "cell_type": "code",
   "execution_count": 12,
   "metadata": {},
   "outputs": [
    {
     "data": {
      "text/plain": [
       "array([-2.06105124e+03,  8.94527539e+00, -4.61240393e-04,  2.06670282e+03,\n",
       "       -2.37628035e+01, -1.43631003e-02, -2.21784909e+00,  2.54480054e+00,\n",
       "        3.45560482e+00,  2.21784909e+00])"
      ]
     },
     "execution_count": 12,
     "metadata": {},
     "output_type": "execute_result"
    }
   ],
   "source": [
    "model.coef_"
   ]
  },
  {
   "cell_type": "code",
   "execution_count": 13,
   "metadata": {},
   "outputs": [],
   "source": [
    "def Haversine(lat1,lon1,lat2,lon2):\n",
    "    R = 6371.0088\n",
    "    lat1,lon1,lat2,lon2 = map(np.radians, [lat1,lon1,lat2,lon2])\n",
    "\n",
    "    dlat = lat2 - lat1\n",
    "    dlon = lon2 - lon1\n",
    "    a = np.sin(dlat/2)**2 + np.cos(lat1) * np.cos(lat2) * np.sin(dlon/2) **2\n",
    "    c = 2 * np.arctan2(a**0.5, (1-a)**0.5)\n",
    "    d = R * c\n",
    "    return round(d,4)"
   ]
  },
  {
   "cell_type": "code",
   "execution_count": 14,
   "metadata": {},
   "outputs": [],
   "source": [
    "def angleFromCoordinate(LAT1, LON1, LAT2, LON2):\n",
    "    dLon = (LON2 - LON1)\n",
    "    y = np.sin(dLon) * np.cos(LAT2)\n",
    "    x = np.cos(LAT1) * np.sin(LAT2) - np.sin(LAT1) * np.cos(LAT2) * np.cos(dLon)\n",
    "    brng = np.arctan2(y, x)\n",
    "    brng = np.degrees(brng)\n",
    "    brng = (brng + 360) % 360\n",
    "    brng = 360 - brng\n",
    "    return brng"
   ]
  },
  {
   "cell_type": "code",
   "execution_count": 15,
   "metadata": {},
   "outputs": [
    {
     "name": "stdout",
     "output_type": "stream",
     "text": [
      "609.1999999999999\n"
     ]
    }
   ],
   "source": [
    "distance = Haversine(df.loc[0, \"LAT1\"], df.loc[0, \"LON1\"], df.loc[7, \"LAT1\"], df.loc[7, \"LON1\"])\n",
    "distance = distance*1000\n",
    "print(distance)"
   ]
  },
  {
   "cell_type": "code",
   "execution_count": 16,
   "metadata": {},
   "outputs": [
    {
     "name": "stdout",
     "output_type": "stream",
     "text": [
      "312.0833887349031\n"
     ]
    }
   ],
   "source": [
    "angle = angleFromCoordinate(df.loc[0, \"LAT1\"], df.loc[0, \"LON1\"], df.loc[7, \"LAT1\"], df.loc[7, \"LON1\"])\n",
    "print(angle)"
   ]
  },
  {
   "cell_type": "code",
   "execution_count": 17,
   "metadata": {},
   "outputs": [
    {
     "name": "stdout",
     "output_type": "stream",
     "text": [
      "        LAT1       LON1  Timestamp1      LAT2       LON2       Angle  East  \\\n",
      "0  12.924954  77.498886   537.48336  12.92854  77.503136  312.083389     0   \n",
      "\n",
      "   West  North  South  \n",
      "0     0      0      1  \n",
      "Speed(m/s):  [13.35763464]\n",
      "Time(s):  [45.60687701]\n"
     ]
    },
    {
     "name": "stderr",
     "output_type": "stream",
     "text": [
      "/home/sarthak/anaconda3/lib/python3.7/site-packages/pandas/core/generic.py:5096: SettingWithCopyWarning: \n",
      "A value is trying to be set on a copy of a slice from a DataFrame.\n",
      "Try using .loc[row_indexer,col_indexer] = value instead\n",
      "\n",
      "See the caveats in the documentation: http://pandas.pydata.org/pandas-docs/stable/indexing.html#indexing-view-versus-copy\n",
      "  self[name] = value\n"
     ]
    }
   ],
   "source": [
    "test = X.head(1)\n",
    "test.LAT2 = df.loc[7, \"LAT1\"]\n",
    "test.LON2 = df.loc[7, \"LON1\"]\n",
    "test.Timestamp2 = df.loc[7, \"Timestamp1\"]\n",
    "test.Angle = angle\n",
    "# test.Distance = distance\n",
    "test.East = 0\n",
    "test.West = 0\n",
    "test.North = 0\n",
    "test.South = 1\n",
    "\n",
    "print(test)\n",
    "# test\n",
    "# test = [df.loc[0, \"LAT1\"], df.loc[0, \"LON1\"], df.loc[0, \"Timestamp1\"], df.loc[100, \"LAT2\"], df.loc[100, \"LON2\"], df.loc[100, \"Timestamp2\"], angle, distance, 1, 0, 0, 0]\n",
    "# test.shape\n",
    "speed = model.predict(test)\n",
    "print(\"Speed(m/s): \" ,speed)\n",
    "print(\"Time(s): \" , distance/speed)"
   ]
  },
  {
   "cell_type": "code",
   "execution_count": 18,
   "metadata": {},
   "outputs": [
    {
     "data": {
      "text/html": [
       "<div>\n",
       "<style scoped>\n",
       "    .dataframe tbody tr th:only-of-type {\n",
       "        vertical-align: middle;\n",
       "    }\n",
       "\n",
       "    .dataframe tbody tr th {\n",
       "        vertical-align: top;\n",
       "    }\n",
       "\n",
       "    .dataframe thead th {\n",
       "        text-align: right;\n",
       "    }\n",
       "</style>\n",
       "<table border=\"1\" class=\"dataframe\">\n",
       "  <thead>\n",
       "    <tr style=\"text-align: right;\">\n",
       "      <th></th>\n",
       "      <th>Id</th>\n",
       "      <th>TimeStamp</th>\n",
       "      <th>LATLONG1</th>\n",
       "      <th>LATLONG2</th>\n",
       "      <th>LATLONG3</th>\n",
       "      <th>LATLONG4</th>\n",
       "      <th>LATLONG5</th>\n",
       "      <th>LATLONG6</th>\n",
       "      <th>LATLONG7</th>\n",
       "      <th>LATLONG8</th>\n",
       "      <th>...</th>\n",
       "      <th>LATLONG91</th>\n",
       "      <th>LATLONG92</th>\n",
       "      <th>LATLONG93</th>\n",
       "      <th>LATLONG94</th>\n",
       "      <th>LATLONG95</th>\n",
       "      <th>LATLONG96</th>\n",
       "      <th>LATLONG97</th>\n",
       "      <th>LATLONG98</th>\n",
       "      <th>LATLONG99</th>\n",
       "      <th>LATLONG100</th>\n",
       "    </tr>\n",
       "  </thead>\n",
       "  <tbody>\n",
       "    <tr>\n",
       "      <th>0</th>\n",
       "      <td>150814965</td>\n",
       "      <td>2016-07-22 08:29:58</td>\n",
       "      <td>12.898197999999999:77.432426</td>\n",
       "      <td>12.897586:77.432716</td>\n",
       "      <td>12.897248:77.43291500000002</td>\n",
       "      <td>12.896813:77.433266</td>\n",
       "      <td>12.896272999999999:77.434074</td>\n",
       "      <td>12.895837:77.43490600000001</td>\n",
       "      <td>12.895327:77.435875</td>\n",
       "      <td>12.894979:77.436523</td>\n",
       "      <td>...</td>\n",
       "      <td>12.910839999999999:77.484505</td>\n",
       "      <td>12.911631:77.484779</td>\n",
       "      <td>12.912429:77.485001</td>\n",
       "      <td>12.912998:77.485405</td>\n",
       "      <td>12.913516:77.486</td>\n",
       "      <td>12.913857:77.486336</td>\n",
       "      <td>12.913871:77.486351</td>\n",
       "      <td>12.913901:77.486374</td>\n",
       "      <td>12.914264999999999:77.486725</td>\n",
       "      <td>12.914926:77.487335</td>\n",
       "    </tr>\n",
       "  </tbody>\n",
       "</table>\n",
       "<p>1 rows × 102 columns</p>\n",
       "</div>"
      ],
      "text/plain": [
       "          Id            TimeStamp                      LATLONG1  \\\n",
       "0  150814965  2016-07-22 08:29:58  12.898197999999999:77.432426   \n",
       "\n",
       "              LATLONG2                     LATLONG3             LATLONG4  \\\n",
       "0  12.897586:77.432716  12.897248:77.43291500000002  12.896813:77.433266   \n",
       "\n",
       "                       LATLONG5                     LATLONG6  \\\n",
       "0  12.896272999999999:77.434074  12.895837:77.43490600000001   \n",
       "\n",
       "              LATLONG7             LATLONG8  ...  \\\n",
       "0  12.895327:77.435875  12.894979:77.436523  ...   \n",
       "\n",
       "                      LATLONG91            LATLONG92            LATLONG93  \\\n",
       "0  12.910839999999999:77.484505  12.911631:77.484779  12.912429:77.485001   \n",
       "\n",
       "             LATLONG94         LATLONG95            LATLONG96  \\\n",
       "0  12.912998:77.485405  12.913516:77.486  12.913857:77.486336   \n",
       "\n",
       "             LATLONG97            LATLONG98                     LATLONG99  \\\n",
       "0  12.913871:77.486351  12.913901:77.486374  12.914264999999999:77.486725   \n",
       "\n",
       "            LATLONG100  \n",
       "0  12.914926:77.487335  \n",
       "\n",
       "[1 rows x 102 columns]"
      ]
     },
     "execution_count": 18,
     "metadata": {},
     "output_type": "execute_result"
    }
   ],
   "source": [
    "tf = pd.read_csv(\"gridtest.csv\")\n",
    "tf.head(1)"
   ]
  },
  {
   "cell_type": "code",
   "execution_count": 19,
   "metadata": {},
   "outputs": [],
   "source": [
    "trainrow = X.head(1)"
   ]
  },
  {
   "cell_type": "code",
   "execution_count": 20,
   "metadata": {},
   "outputs": [
    {
     "name": "stdout",
     "output_type": "stream",
     "text": [
      "509.96666666666664\n"
     ]
    }
   ],
   "source": [
    "hour = int(tf.loc[0, \"TimeStamp\"][11:13])\n",
    "minutes = int(tf.loc[0, \"TimeStamp\"][14:16])\n",
    "seconds = int(tf.loc[0, \"TimeStamp\"][17:19])\n",
    "time = hour*60 + minutes + seconds/60\n",
    "print(time)"
   ]
  },
  {
   "cell_type": "code",
   "execution_count": 21,
   "metadata": {},
   "outputs": [],
   "source": [
    "def angleFromCoordinate(LAT1, LON1, LAT2, LON2):\n",
    "    dLon = (LON2 - LON1)\n",
    "    y = np.sin(dLon) * np.cos(LAT2)\n",
    "    x = np.cos(LAT1) * np.sin(LAT2) - np.sin(LAT1) * np.cos(LAT2) * np.cos(dLon)\n",
    "    brng = np.arctan2(y, x)\n",
    "    brng = np.degrees(brng)\n",
    "    brng = (brng + 360) % 360\n",
    "    brng = 360 - brng\n",
    "    return brng"
   ]
  },
  {
   "cell_type": "code",
   "execution_count": 22,
   "metadata": {},
   "outputs": [],
   "source": [
    "def east(angle):\n",
    "    if (angle <=45) | (angle > 315):\n",
    "        return 1\n",
    "    else:\n",
    "        return 0\n",
    "    \n",
    "def north(angle):    \n",
    "    if (angle >45) & (angle <= 135):\n",
    "        return 1\n",
    "    else:\n",
    "        return 0\n",
    "    \n",
    "def west(angle):    \n",
    "    if (angle > 135) & (angle <= 225):\n",
    "        return 1\n",
    "    else:\n",
    "        return 0\n",
    "    \n",
    "def south(angle):    \n",
    "    if (angle >225) & (angle <= 315):\n",
    "        return 1\n",
    "    else:\n",
    "        return 0"
   ]
  },
  {
   "cell_type": "code",
   "execution_count": 23,
   "metadata": {},
   "outputs": [],
   "source": [
    "def genConcat(a, b):\n",
    "    return str(a+str(b))"
   ]
  },
  {
   "cell_type": "code",
   "execution_count": 24,
   "metadata": {},
   "outputs": [
    {
     "name": "stdout",
     "output_type": "stream",
     "text": [
      "12.898197999999999:77.432426\n",
      "12.898197999999999\n",
      "77.432426\n"
     ]
    }
   ],
   "source": [
    "LATLON1 = tf.loc[0, genConcat(\"LATLONG\", 1)]\n",
    "LAT1 = ''\n",
    "i=0\n",
    "while(LATLON1[i] != ':'):\n",
    "    LAT1 += LATLON1[i]\n",
    "    i += 1\n",
    "   \n",
    "LAT2 = LATLON1[i+1::1]\n",
    "print(LATLON1)\n",
    "print(LAT1)   \n",
    "print(LAT2)"
   ]
  },
  {
   "cell_type": "code",
   "execution_count": 25,
   "metadata": {},
   "outputs": [],
   "source": [
    "def generateLAT(LATLON):\n",
    "    LAT = ''\n",
    "    i=0\n",
    "    while(LATLON[i] != ':'):\n",
    "        LAT += LATLON[i]\n",
    "        i += 1\n",
    "    return float(LAT)   \n",
    "\n",
    "def generateLON(LATLON):\n",
    "    LAT = ''\n",
    "    i=0\n",
    "    while(LATLON[i] != ':'):\n",
    "        LAT += LATLON[i]\n",
    "        i += 1\n",
    "    return float(LATLON[i+1::1])   \n",
    "    "
   ]
  },
  {
   "cell_type": "code",
   "execution_count": 33,
   "metadata": {},
   "outputs": [
    {
     "name": "stderr",
     "output_type": "stream",
     "text": [
      "/home/sarthak/anaconda3/lib/python3.7/site-packages/pandas/core/generic.py:5096: SettingWithCopyWarning: \n",
      "A value is trying to be set on a copy of a slice from a DataFrame.\n",
      "Try using .loc[row_indexer,col_indexer] = value instead\n",
      "\n",
      "See the caveats in the documentation: http://pandas.pydata.org/pandas-docs/stable/indexing.html#indexing-view-versus-copy\n",
      "  self[name] = value\n",
      "/home/sarthak/anaconda3/lib/python3.7/site-packages/pandas/core/generic.py:5096: SettingWithCopyWarning: \n",
      "A value is trying to be set on a copy of a slice from a DataFrame.\n",
      "Try using .loc[row_indexer,col_indexer] = value instead\n",
      "\n",
      "See the caveats in the documentation: http://pandas.pydata.org/pandas-docs/stable/indexing.html#indexing-view-versus-copy\n",
      "  self[name] = value\n"
     ]
    },
    {
     "name": "stdout",
     "output_type": "stream",
     "text": [
      "Timetaken 0    27.512936\n",
      "dtype: float64\n",
      "Timetaken 0    13.468713\n",
      "dtype: float64\n"
     ]
    },
    {
     "name": "stderr",
     "output_type": "stream",
     "text": [
      "/home/sarthak/anaconda3/lib/python3.7/site-packages/pandas/core/generic.py:5096: SettingWithCopyWarning: \n",
      "A value is trying to be set on a copy of a slice from a DataFrame.\n",
      "Try using .loc[row_indexer,col_indexer] = value instead\n",
      "\n",
      "See the caveats in the documentation: http://pandas.pydata.org/pandas-docs/stable/indexing.html#indexing-view-versus-copy\n",
      "  self[name] = value\n",
      "/home/sarthak/anaconda3/lib/python3.7/site-packages/pandas/core/generic.py:5096: SettingWithCopyWarning: \n",
      "A value is trying to be set on a copy of a slice from a DataFrame.\n",
      "Try using .loc[row_indexer,col_indexer] = value instead\n",
      "\n",
      "See the caveats in the documentation: http://pandas.pydata.org/pandas-docs/stable/indexing.html#indexing-view-versus-copy\n",
      "  self[name] = value\n"
     ]
    },
    {
     "name": "stdout",
     "output_type": "stream",
     "text": [
      "Timetaken 0    21.272826\n",
      "dtype: float64\n",
      "Timetaken 0    44.042326\n",
      "dtype: float64\n"
     ]
    },
    {
     "name": "stderr",
     "output_type": "stream",
     "text": [
      "/home/sarthak/anaconda3/lib/python3.7/site-packages/pandas/core/generic.py:5096: SettingWithCopyWarning: \n",
      "A value is trying to be set on a copy of a slice from a DataFrame.\n",
      "Try using .loc[row_indexer,col_indexer] = value instead\n",
      "\n",
      "See the caveats in the documentation: http://pandas.pydata.org/pandas-docs/stable/indexing.html#indexing-view-versus-copy\n",
      "  self[name] = value\n",
      "/home/sarthak/anaconda3/lib/python3.7/site-packages/pandas/core/generic.py:5096: SettingWithCopyWarning: \n",
      "A value is trying to be set on a copy of a slice from a DataFrame.\n",
      "Try using .loc[row_indexer,col_indexer] = value instead\n",
      "\n",
      "See the caveats in the documentation: http://pandas.pydata.org/pandas-docs/stable/indexing.html#indexing-view-versus-copy\n",
      "  self[name] = value\n"
     ]
    },
    {
     "name": "stdout",
     "output_type": "stream",
     "text": [
      "Timetaken 0    40.794904\n",
      "dtype: float64\n",
      "Timetaken 0    50.733021\n",
      "dtype: float64\n"
     ]
    },
    {
     "name": "stderr",
     "output_type": "stream",
     "text": [
      "/home/sarthak/anaconda3/lib/python3.7/site-packages/pandas/core/generic.py:5096: SettingWithCopyWarning: \n",
      "A value is trying to be set on a copy of a slice from a DataFrame.\n",
      "Try using .loc[row_indexer,col_indexer] = value instead\n",
      "\n",
      "See the caveats in the documentation: http://pandas.pydata.org/pandas-docs/stable/indexing.html#indexing-view-versus-copy\n",
      "  self[name] = value\n"
     ]
    },
    {
     "name": "stdout",
     "output_type": "stream",
     "text": [
      "Timetaken 0    29.940008\n",
      "dtype: float64\n",
      "Timetaken 0    9.188854\n",
      "dtype: float64\n"
     ]
    },
    {
     "name": "stderr",
     "output_type": "stream",
     "text": [
      "/home/sarthak/anaconda3/lib/python3.7/site-packages/pandas/core/generic.py:5096: SettingWithCopyWarning: \n",
      "A value is trying to be set on a copy of a slice from a DataFrame.\n",
      "Try using .loc[row_indexer,col_indexer] = value instead\n",
      "\n",
      "See the caveats in the documentation: http://pandas.pydata.org/pandas-docs/stable/indexing.html#indexing-view-versus-copy\n",
      "  self[name] = value\n"
     ]
    },
    {
     "name": "stdout",
     "output_type": "stream",
     "text": [
      "Timetaken 0    3.520112\n",
      "dtype: float64\n"
     ]
    },
    {
     "name": "stderr",
     "output_type": "stream",
     "text": [
      "/home/sarthak/anaconda3/lib/python3.7/site-packages/pandas/core/generic.py:5096: SettingWithCopyWarning: \n",
      "A value is trying to be set on a copy of a slice from a DataFrame.\n",
      "Try using .loc[row_indexer,col_indexer] = value instead\n",
      "\n",
      "See the caveats in the documentation: http://pandas.pydata.org/pandas-docs/stable/indexing.html#indexing-view-versus-copy\n",
      "  self[name] = value\n",
      "/home/sarthak/anaconda3/lib/python3.7/site-packages/pandas/core/generic.py:5096: SettingWithCopyWarning: \n",
      "A value is trying to be set on a copy of a slice from a DataFrame.\n",
      "Try using .loc[row_indexer,col_indexer] = value instead\n",
      "\n",
      "See the caveats in the documentation: http://pandas.pydata.org/pandas-docs/stable/indexing.html#indexing-view-versus-copy\n",
      "  self[name] = value\n"
     ]
    },
    {
     "name": "stdout",
     "output_type": "stream",
     "text": [
      "Timetaken 0    15.535164\n",
      "dtype: float64\n"
     ]
    },
    {
     "name": "stderr",
     "output_type": "stream",
     "text": [
      "/home/sarthak/anaconda3/lib/python3.7/site-packages/pandas/core/generic.py:5096: SettingWithCopyWarning: \n",
      "A value is trying to be set on a copy of a slice from a DataFrame.\n",
      "Try using .loc[row_indexer,col_indexer] = value instead\n",
      "\n",
      "See the caveats in the documentation: http://pandas.pydata.org/pandas-docs/stable/indexing.html#indexing-view-versus-copy\n",
      "  self[name] = value\n",
      "/home/sarthak/anaconda3/lib/python3.7/site-packages/pandas/core/generic.py:5096: SettingWithCopyWarning: \n",
      "A value is trying to be set on a copy of a slice from a DataFrame.\n",
      "Try using .loc[row_indexer,col_indexer] = value instead\n",
      "\n",
      "See the caveats in the documentation: http://pandas.pydata.org/pandas-docs/stable/indexing.html#indexing-view-versus-copy\n",
      "  self[name] = value\n"
     ]
    },
    {
     "name": "stdout",
     "output_type": "stream",
     "text": [
      "Timetaken 0    22.255958\n",
      "dtype: float64\n",
      "Timetaken 0    47.186999\n",
      "dtype: float64\n"
     ]
    },
    {
     "name": "stderr",
     "output_type": "stream",
     "text": [
      "/home/sarthak/anaconda3/lib/python3.7/site-packages/pandas/core/generic.py:5096: SettingWithCopyWarning: \n",
      "A value is trying to be set on a copy of a slice from a DataFrame.\n",
      "Try using .loc[row_indexer,col_indexer] = value instead\n",
      "\n",
      "See the caveats in the documentation: http://pandas.pydata.org/pandas-docs/stable/indexing.html#indexing-view-versus-copy\n",
      "  self[name] = value\n",
      "/home/sarthak/anaconda3/lib/python3.7/site-packages/pandas/core/generic.py:5096: SettingWithCopyWarning: \n",
      "A value is trying to be set on a copy of a slice from a DataFrame.\n",
      "Try using .loc[row_indexer,col_indexer] = value instead\n",
      "\n",
      "See the caveats in the documentation: http://pandas.pydata.org/pandas-docs/stable/indexing.html#indexing-view-versus-copy\n",
      "  self[name] = value\n"
     ]
    },
    {
     "name": "stdout",
     "output_type": "stream",
     "text": [
      "Timetaken 0    75.688045\n",
      "dtype: float64\n",
      "Timetaken"
     ]
    },
    {
     "name": "stderr",
     "output_type": "stream",
     "text": [
      "/home/sarthak/anaconda3/lib/python3.7/site-packages/pandas/core/generic.py:5096: SettingWithCopyWarning: \n",
      "A value is trying to be set on a copy of a slice from a DataFrame.\n",
      "Try using .loc[row_indexer,col_indexer] = value instead\n",
      "\n",
      "See the caveats in the documentation: http://pandas.pydata.org/pandas-docs/stable/indexing.html#indexing-view-versus-copy\n",
      "  self[name] = value\n",
      "/home/sarthak/anaconda3/lib/python3.7/site-packages/pandas/core/generic.py:5096: SettingWithCopyWarning: \n",
      "A value is trying to be set on a copy of a slice from a DataFrame.\n",
      "Try using .loc[row_indexer,col_indexer] = value instead\n",
      "\n",
      "See the caveats in the documentation: http://pandas.pydata.org/pandas-docs/stable/indexing.html#indexing-view-versus-copy\n",
      "  self[name] = value\n"
     ]
    },
    {
     "name": "stdout",
     "output_type": "stream",
     "text": [
      " 0    74.936664\n",
      "dtype: float64\n",
      "Timetaken 0    53.184294\n",
      "dtype: float64\n",
      "Timetaken 0    15.713435\n",
      "dtype: float64\n"
     ]
    },
    {
     "name": "stderr",
     "output_type": "stream",
     "text": [
      "/home/sarthak/anaconda3/lib/python3.7/site-packages/pandas/core/generic.py:5096: SettingWithCopyWarning: \n",
      "A value is trying to be set on a copy of a slice from a DataFrame.\n",
      "Try using .loc[row_indexer,col_indexer] = value instead\n",
      "\n",
      "See the caveats in the documentation: http://pandas.pydata.org/pandas-docs/stable/indexing.html#indexing-view-versus-copy\n",
      "  self[name] = value\n",
      "/home/sarthak/anaconda3/lib/python3.7/site-packages/pandas/core/generic.py:5096: SettingWithCopyWarning: \n",
      "A value is trying to be set on a copy of a slice from a DataFrame.\n",
      "Try using .loc[row_indexer,col_indexer] = value instead\n",
      "\n",
      "See the caveats in the documentation: http://pandas.pydata.org/pandas-docs/stable/indexing.html#indexing-view-versus-copy\n",
      "  self[name] = value\n"
     ]
    },
    {
     "name": "stdout",
     "output_type": "stream",
     "text": [
      "Timetaken 0    18.732036\n",
      "dtype: float64\n",
      "Timetaken 0    34.255163\n",
      "dtype: float64\n"
     ]
    },
    {
     "name": "stderr",
     "output_type": "stream",
     "text": [
      "/home/sarthak/anaconda3/lib/python3.7/site-packages/pandas/core/generic.py:5096: SettingWithCopyWarning: \n",
      "A value is trying to be set on a copy of a slice from a DataFrame.\n",
      "Try using .loc[row_indexer,col_indexer] = value instead\n",
      "\n",
      "See the caveats in the documentation: http://pandas.pydata.org/pandas-docs/stable/indexing.html#indexing-view-versus-copy\n",
      "  self[name] = value\n"
     ]
    },
    {
     "name": "stdout",
     "output_type": "stream",
     "text": [
      "Timetaken 0    45.495182\n",
      "dtype: float64\n"
     ]
    },
    {
     "name": "stderr",
     "output_type": "stream",
     "text": [
      "/home/sarthak/anaconda3/lib/python3.7/site-packages/pandas/core/generic.py:5096: SettingWithCopyWarning: \n",
      "A value is trying to be set on a copy of a slice from a DataFrame.\n",
      "Try using .loc[row_indexer,col_indexer] = value instead\n",
      "\n",
      "See the caveats in the documentation: http://pandas.pydata.org/pandas-docs/stable/indexing.html#indexing-view-versus-copy\n",
      "  self[name] = value\n",
      "/home/sarthak/anaconda3/lib/python3.7/site-packages/pandas/core/generic.py:5096: SettingWithCopyWarning: \n",
      "A value is trying to be set on a copy of a slice from a DataFrame.\n",
      "Try using .loc[row_indexer,col_indexer] = value instead\n",
      "\n",
      "See the caveats in the documentation: http://pandas.pydata.org/pandas-docs/stable/indexing.html#indexing-view-versus-copy\n",
      "  self[name] = value\n"
     ]
    },
    {
     "name": "stdout",
     "output_type": "stream",
     "text": [
      "Timetaken 0    46.425447\n",
      "dtype: float64\n",
      "Timetaken 0    52.427427\n",
      "dtype: float64\n"
     ]
    },
    {
     "name": "stderr",
     "output_type": "stream",
     "text": [
      "/home/sarthak/anaconda3/lib/python3.7/site-packages/pandas/core/generic.py:5096: SettingWithCopyWarning: \n",
      "A value is trying to be set on a copy of a slice from a DataFrame.\n",
      "Try using .loc[row_indexer,col_indexer] = value instead\n",
      "\n",
      "See the caveats in the documentation: http://pandas.pydata.org/pandas-docs/stable/indexing.html#indexing-view-versus-copy\n",
      "  self[name] = value\n",
      "/home/sarthak/anaconda3/lib/python3.7/site-packages/pandas/core/generic.py:5096: SettingWithCopyWarning: \n",
      "A value is trying to be set on a copy of a slice from a DataFrame.\n",
      "Try using .loc[row_indexer,col_indexer] = value instead\n",
      "\n",
      "See the caveats in the documentation: http://pandas.pydata.org/pandas-docs/stable/indexing.html#indexing-view-versus-copy\n",
      "  self[name] = value\n"
     ]
    },
    {
     "name": "stdout",
     "output_type": "stream",
     "text": [
      "Timetaken 0    47.214936\n",
      "dtype: float64\n",
      "Timetaken 0    30.357879\n",
      "dtype: float64\n"
     ]
    },
    {
     "name": "stderr",
     "output_type": "stream",
     "text": [
      "/home/sarthak/anaconda3/lib/python3.7/site-packages/pandas/core/generic.py:5096: SettingWithCopyWarning: \n",
      "A value is trying to be set on a copy of a slice from a DataFrame.\n",
      "Try using .loc[row_indexer,col_indexer] = value instead\n",
      "\n",
      "See the caveats in the documentation: http://pandas.pydata.org/pandas-docs/stable/indexing.html#indexing-view-versus-copy\n",
      "  self[name] = value\n",
      "/home/sarthak/anaconda3/lib/python3.7/site-packages/pandas/core/generic.py:5096: SettingWithCopyWarning: \n",
      "A value is trying to be set on a copy of a slice from a DataFrame.\n",
      "Try using .loc[row_indexer,col_indexer] = value instead\n",
      "\n",
      "See the caveats in the documentation: http://pandas.pydata.org/pandas-docs/stable/indexing.html#indexing-view-versus-copy\n",
      "  self[name] = value\n"
     ]
    },
    {
     "name": "stdout",
     "output_type": "stream",
     "text": [
      "Timetaken 0    3.625972\n",
      "dtype: float64\n",
      "Timetaken 0    5.130072\n",
      "dtype: float64\n"
     ]
    },
    {
     "name": "stderr",
     "output_type": "stream",
     "text": [
      "/home/sarthak/anaconda3/lib/python3.7/site-packages/pandas/core/generic.py:5096: SettingWithCopyWarning: \n",
      "A value is trying to be set on a copy of a slice from a DataFrame.\n",
      "Try using .loc[row_indexer,col_indexer] = value instead\n",
      "\n",
      "See the caveats in the documentation: http://pandas.pydata.org/pandas-docs/stable/indexing.html#indexing-view-versus-copy\n",
      "  self[name] = value\n",
      "/home/sarthak/anaconda3/lib/python3.7/site-packages/pandas/core/generic.py:5096: SettingWithCopyWarning: \n",
      "A value is trying to be set on a copy of a slice from a DataFrame.\n",
      "Try using .loc[row_indexer,col_indexer] = value instead\n",
      "\n",
      "See the caveats in the documentation: http://pandas.pydata.org/pandas-docs/stable/indexing.html#indexing-view-versus-copy\n",
      "  self[name] = value\n"
     ]
    },
    {
     "name": "stdout",
     "output_type": "stream",
     "text": [
      "Timetaken 0    27.904928\n",
      "dtype: float64\n",
      "Timetaken 0    39.216455\n",
      "dtype: float64\n"
     ]
    },
    {
     "name": "stderr",
     "output_type": "stream",
     "text": [
      "/home/sarthak/anaconda3/lib/python3.7/site-packages/pandas/core/generic.py:5096: SettingWithCopyWarning: \n",
      "A value is trying to be set on a copy of a slice from a DataFrame.\n",
      "Try using .loc[row_indexer,col_indexer] = value instead\n",
      "\n",
      "See the caveats in the documentation: http://pandas.pydata.org/pandas-docs/stable/indexing.html#indexing-view-versus-copy\n",
      "  self[name] = value\n",
      "/home/sarthak/anaconda3/lib/python3.7/site-packages/pandas/core/generic.py:5096: SettingWithCopyWarning: \n",
      "A value is trying to be set on a copy of a slice from a DataFrame.\n",
      "Try using .loc[row_indexer,col_indexer] = value instead\n",
      "\n",
      "See the caveats in the documentation: http://pandas.pydata.org/pandas-docs/stable/indexing.html#indexing-view-versus-copy\n",
      "  self[name] = value\n"
     ]
    },
    {
     "name": "stdout",
     "output_type": "stream",
     "text": [
      "Timetaken 0    34.957957\n",
      "dtype: float64\n",
      "Timetaken 0    35.468188\n",
      "dtype: float64\n"
     ]
    },
    {
     "name": "stderr",
     "output_type": "stream",
     "text": [
      "/home/sarthak/anaconda3/lib/python3.7/site-packages/pandas/core/generic.py:5096: SettingWithCopyWarning: \n",
      "A value is trying to be set on a copy of a slice from a DataFrame.\n",
      "Try using .loc[row_indexer,col_indexer] = value instead\n",
      "\n",
      "See the caveats in the documentation: http://pandas.pydata.org/pandas-docs/stable/indexing.html#indexing-view-versus-copy\n",
      "  self[name] = value\n",
      "/home/sarthak/anaconda3/lib/python3.7/site-packages/pandas/core/generic.py:5096: SettingWithCopyWarning: \n",
      "A value is trying to be set on a copy of a slice from a DataFrame.\n",
      "Try using .loc[row_indexer,col_indexer] = value instead\n",
      "\n",
      "See the caveats in the documentation: http://pandas.pydata.org/pandas-docs/stable/indexing.html#indexing-view-versus-copy\n",
      "  self[name] = value\n"
     ]
    },
    {
     "name": "stdout",
     "output_type": "stream",
     "text": [
      "Timetaken 0    36.917608\n",
      "dtype: float64\n",
      "Timetaken 0    20.248357\n",
      "dtype: float64\n"
     ]
    },
    {
     "name": "stderr",
     "output_type": "stream",
     "text": [
      "/home/sarthak/anaconda3/lib/python3.7/site-packages/pandas/core/generic.py:5096: SettingWithCopyWarning: \n",
      "A value is trying to be set on a copy of a slice from a DataFrame.\n",
      "Try using .loc[row_indexer,col_indexer] = value instead\n",
      "\n",
      "See the caveats in the documentation: http://pandas.pydata.org/pandas-docs/stable/indexing.html#indexing-view-versus-copy\n",
      "  self[name] = value\n",
      "/home/sarthak/anaconda3/lib/python3.7/site-packages/pandas/core/generic.py:5096: SettingWithCopyWarning: \n",
      "A value is trying to be set on a copy of a slice from a DataFrame.\n",
      "Try using .loc[row_indexer,col_indexer] = value instead\n",
      "\n",
      "See the caveats in the documentation: http://pandas.pydata.org/pandas-docs/stable/indexing.html#indexing-view-versus-copy\n",
      "  self[name] = value\n"
     ]
    },
    {
     "name": "stdout",
     "output_type": "stream",
     "text": [
      "Timetaken 0    8.310053\n",
      "dtype: float64\n"
     ]
    },
    {
     "name": "stderr",
     "output_type": "stream",
     "text": [
      "/home/sarthak/anaconda3/lib/python3.7/site-packages/pandas/core/generic.py:5096: SettingWithCopyWarning: \n",
      "A value is trying to be set on a copy of a slice from a DataFrame.\n",
      "Try using .loc[row_indexer,col_indexer] = value instead\n",
      "\n",
      "See the caveats in the documentation: http://pandas.pydata.org/pandas-docs/stable/indexing.html#indexing-view-versus-copy\n",
      "  self[name] = value\n",
      "/home/sarthak/anaconda3/lib/python3.7/site-packages/pandas/core/generic.py:5096: SettingWithCopyWarning: \n",
      "A value is trying to be set on a copy of a slice from a DataFrame.\n",
      "Try using .loc[row_indexer,col_indexer] = value instead\n",
      "\n",
      "See the caveats in the documentation: http://pandas.pydata.org/pandas-docs/stable/indexing.html#indexing-view-versus-copy\n",
      "  self[name] = value\n"
     ]
    },
    {
     "name": "stdout",
     "output_type": "stream",
     "text": [
      "Timetaken 0    10.240418\n",
      "dtype: float64\n",
      "Timetaken 0    33.388031\n",
      "dtype: float64\n",
      "Timetaken 0    25.419487\n",
      "dtype: float64\n"
     ]
    },
    {
     "name": "stderr",
     "output_type": "stream",
     "text": [
      "/home/sarthak/anaconda3/lib/python3.7/site-packages/pandas/core/generic.py:5096: SettingWithCopyWarning: \n",
      "A value is trying to be set on a copy of a slice from a DataFrame.\n",
      "Try using .loc[row_indexer,col_indexer] = value instead\n",
      "\n",
      "See the caveats in the documentation: http://pandas.pydata.org/pandas-docs/stable/indexing.html#indexing-view-versus-copy\n",
      "  self[name] = value\n"
     ]
    },
    {
     "name": "stdout",
     "output_type": "stream",
     "text": [
      "Timetaken 0    12.811066\n",
      "dtype: float64\n"
     ]
    },
    {
     "name": "stderr",
     "output_type": "stream",
     "text": [
      "/home/sarthak/anaconda3/lib/python3.7/site-packages/pandas/core/generic.py:5096: SettingWithCopyWarning: \n",
      "A value is trying to be set on a copy of a slice from a DataFrame.\n",
      "Try using .loc[row_indexer,col_indexer] = value instead\n",
      "\n",
      "See the caveats in the documentation: http://pandas.pydata.org/pandas-docs/stable/indexing.html#indexing-view-versus-copy\n",
      "  self[name] = value\n"
     ]
    },
    {
     "name": "stdout",
     "output_type": "stream",
     "text": [
      "Timetaken 0    9.778668\n",
      "dtype: float64\n",
      "Timetaken 0    24.817633\n",
      "dtype: float64\n",
      "Timetaken 0    30.847617\n",
      "dtype: float64\n"
     ]
    },
    {
     "name": "stderr",
     "output_type": "stream",
     "text": [
      "/home/sarthak/anaconda3/lib/python3.7/site-packages/pandas/core/generic.py:5096: SettingWithCopyWarning: \n",
      "A value is trying to be set on a copy of a slice from a DataFrame.\n",
      "Try using .loc[row_indexer,col_indexer] = value instead\n",
      "\n",
      "See the caveats in the documentation: http://pandas.pydata.org/pandas-docs/stable/indexing.html#indexing-view-versus-copy\n",
      "  self[name] = value\n",
      "/home/sarthak/anaconda3/lib/python3.7/site-packages/pandas/core/generic.py:5096: SettingWithCopyWarning: \n",
      "A value is trying to be set on a copy of a slice from a DataFrame.\n",
      "Try using .loc[row_indexer,col_indexer] = value instead\n",
      "\n",
      "See the caveats in the documentation: http://pandas.pydata.org/pandas-docs/stable/indexing.html#indexing-view-versus-copy\n",
      "  self[name] = value\n"
     ]
    },
    {
     "name": "stdout",
     "output_type": "stream",
     "text": [
      "Timetaken 0    36.827441\n",
      "dtype: float64\n"
     ]
    },
    {
     "name": "stderr",
     "output_type": "stream",
     "text": [
      "/home/sarthak/anaconda3/lib/python3.7/site-packages/pandas/core/generic.py:5096: SettingWithCopyWarning: \n",
      "A value is trying to be set on a copy of a slice from a DataFrame.\n",
      "Try using .loc[row_indexer,col_indexer] = value instead\n",
      "\n",
      "See the caveats in the documentation: http://pandas.pydata.org/pandas-docs/stable/indexing.html#indexing-view-versus-copy\n",
      "  self[name] = value\n",
      "/home/sarthak/anaconda3/lib/python3.7/site-packages/pandas/core/generic.py:5096: SettingWithCopyWarning: \n",
      "A value is trying to be set on a copy of a slice from a DataFrame.\n",
      "Try using .loc[row_indexer,col_indexer] = value instead\n",
      "\n",
      "See the caveats in the documentation: http://pandas.pydata.org/pandas-docs/stable/indexing.html#indexing-view-versus-copy\n",
      "  self[name] = value\n"
     ]
    },
    {
     "name": "stdout",
     "output_type": "stream",
     "text": [
      "Timetaken 0    39.753539\n",
      "dtype: float64\n",
      "Timetaken 0    42.044398\n",
      "dtype: float64\n"
     ]
    },
    {
     "name": "stderr",
     "output_type": "stream",
     "text": [
      "/home/sarthak/anaconda3/lib/python3.7/site-packages/pandas/core/generic.py:5096: SettingWithCopyWarning: \n",
      "A value is trying to be set on a copy of a slice from a DataFrame.\n",
      "Try using .loc[row_indexer,col_indexer] = value instead\n",
      "\n",
      "See the caveats in the documentation: http://pandas.pydata.org/pandas-docs/stable/indexing.html#indexing-view-versus-copy\n",
      "  self[name] = value\n",
      "/home/sarthak/anaconda3/lib/python3.7/site-packages/pandas/core/generic.py:5096: SettingWithCopyWarning: \n",
      "A value is trying to be set on a copy of a slice from a DataFrame.\n",
      "Try using .loc[row_indexer,col_indexer] = value instead\n",
      "\n",
      "See the caveats in the documentation: http://pandas.pydata.org/pandas-docs/stable/indexing.html#indexing-view-versus-copy\n",
      "  self[name] = value\n"
     ]
    },
    {
     "name": "stdout",
     "output_type": "stream",
     "text": [
      "Timetaken 0    45.902642\n",
      "dtype: float64\n",
      "Timetaken 0    39.078376\n",
      "dtype: float64\n"
     ]
    },
    {
     "name": "stderr",
     "output_type": "stream",
     "text": [
      "/home/sarthak/anaconda3/lib/python3.7/site-packages/pandas/core/generic.py:5096: SettingWithCopyWarning: \n",
      "A value is trying to be set on a copy of a slice from a DataFrame.\n",
      "Try using .loc[row_indexer,col_indexer] = value instead\n",
      "\n",
      "See the caveats in the documentation: http://pandas.pydata.org/pandas-docs/stable/indexing.html#indexing-view-versus-copy\n",
      "  self[name] = value\n",
      "/home/sarthak/anaconda3/lib/python3.7/site-packages/pandas/core/generic.py:5096: SettingWithCopyWarning: \n",
      "A value is trying to be set on a copy of a slice from a DataFrame.\n",
      "Try using .loc[row_indexer,col_indexer] = value instead\n",
      "\n",
      "See the caveats in the documentation: http://pandas.pydata.org/pandas-docs/stable/indexing.html#indexing-view-versus-copy\n",
      "  self[name] = value\n"
     ]
    },
    {
     "name": "stdout",
     "output_type": "stream",
     "text": [
      "Timetaken 0    14.75467\n",
      "dtype: float64\n",
      "Timetaken 0    39.432023\n",
      "dtype: float64\n"
     ]
    },
    {
     "name": "stderr",
     "output_type": "stream",
     "text": [
      "/home/sarthak/anaconda3/lib/python3.7/site-packages/pandas/core/generic.py:5096: SettingWithCopyWarning: \n",
      "A value is trying to be set on a copy of a slice from a DataFrame.\n",
      "Try using .loc[row_indexer,col_indexer] = value instead\n",
      "\n",
      "See the caveats in the documentation: http://pandas.pydata.org/pandas-docs/stable/indexing.html#indexing-view-versus-copy\n",
      "  self[name] = value\n",
      "/home/sarthak/anaconda3/lib/python3.7/site-packages/pandas/core/generic.py:5096: SettingWithCopyWarning: \n",
      "A value is trying to be set on a copy of a slice from a DataFrame.\n",
      "Try using .loc[row_indexer,col_indexer] = value instead\n",
      "\n",
      "See the caveats in the documentation: http://pandas.pydata.org/pandas-docs/stable/indexing.html#indexing-view-versus-copy\n",
      "  self[name] = value\n"
     ]
    },
    {
     "name": "stdout",
     "output_type": "stream",
     "text": [
      "Timetaken 0    19.351894\n",
      "dtype: float64\n"
     ]
    },
    {
     "name": "stderr",
     "output_type": "stream",
     "text": [
      "/home/sarthak/anaconda3/lib/python3.7/site-packages/pandas/core/generic.py:5096: SettingWithCopyWarning: \n",
      "A value is trying to be set on a copy of a slice from a DataFrame.\n",
      "Try using .loc[row_indexer,col_indexer] = value instead\n",
      "\n",
      "See the caveats in the documentation: http://pandas.pydata.org/pandas-docs/stable/indexing.html#indexing-view-versus-copy\n",
      "  self[name] = value\n"
     ]
    },
    {
     "name": "stdout",
     "output_type": "stream",
     "text": [
      "Timetaken 0    31.561761\n",
      "dtype: float64\n",
      "Timetaken 0    30.422016\n",
      "dtype: float64\n"
     ]
    },
    {
     "name": "stderr",
     "output_type": "stream",
     "text": [
      "/home/sarthak/anaconda3/lib/python3.7/site-packages/pandas/core/generic.py:5096: SettingWithCopyWarning: \n",
      "A value is trying to be set on a copy of a slice from a DataFrame.\n",
      "Try using .loc[row_indexer,col_indexer] = value instead\n",
      "\n",
      "See the caveats in the documentation: http://pandas.pydata.org/pandas-docs/stable/indexing.html#indexing-view-versus-copy\n",
      "  self[name] = value\n",
      "/home/sarthak/anaconda3/lib/python3.7/site-packages/pandas/core/generic.py:5096: SettingWithCopyWarning: \n",
      "A value is trying to be set on a copy of a slice from a DataFrame.\n",
      "Try using .loc[row_indexer,col_indexer] = value instead\n",
      "\n",
      "See the caveats in the documentation: http://pandas.pydata.org/pandas-docs/stable/indexing.html#indexing-view-versus-copy\n",
      "  self[name] = value\n"
     ]
    },
    {
     "name": "stdout",
     "output_type": "stream",
     "text": [
      "Timetaken 0    6.275234\n",
      "dtype: float64\n",
      "Timetaken 0    3.52885\n",
      "dtype: float64\n"
     ]
    },
    {
     "name": "stderr",
     "output_type": "stream",
     "text": [
      "/home/sarthak/anaconda3/lib/python3.7/site-packages/pandas/core/generic.py:5096: SettingWithCopyWarning: \n",
      "A value is trying to be set on a copy of a slice from a DataFrame.\n",
      "Try using .loc[row_indexer,col_indexer] = value instead\n",
      "\n",
      "See the caveats in the documentation: http://pandas.pydata.org/pandas-docs/stable/indexing.html#indexing-view-versus-copy\n",
      "  self[name] = value\n",
      "/home/sarthak/anaconda3/lib/python3.7/site-packages/pandas/core/generic.py:5096: SettingWithCopyWarning: \n",
      "A value is trying to be set on a copy of a slice from a DataFrame.\n",
      "Try using .loc[row_indexer,col_indexer] = value instead\n",
      "\n",
      "See the caveats in the documentation: http://pandas.pydata.org/pandas-docs/stable/indexing.html#indexing-view-versus-copy\n",
      "  self[name] = value\n",
      "/home/sarthak/anaconda3/lib/python3.7/site-packages/pandas/core/generic.py:5096: SettingWithCopyWarning: \n",
      "A value is trying to be set on a copy of a slice from a DataFrame.\n",
      "Try using .loc[row_indexer,col_indexer] = value instead\n",
      "\n",
      "See the caveats in the documentation: http://pandas.pydata.org/pandas-docs/stable/indexing.html#indexing-view-versus-copy\n",
      "  self[name] = value\n"
     ]
    },
    {
     "name": "stdout",
     "output_type": "stream",
     "text": [
      "Timetaken 0    22.642594\n",
      "dtype: float64\n"
     ]
    },
    {
     "name": "stderr",
     "output_type": "stream",
     "text": [
      "/home/sarthak/anaconda3/lib/python3.7/site-packages/pandas/core/generic.py:5096: SettingWithCopyWarning: \n",
      "A value is trying to be set on a copy of a slice from a DataFrame.\n",
      "Try using .loc[row_indexer,col_indexer] = value instead\n",
      "\n",
      "See the caveats in the documentation: http://pandas.pydata.org/pandas-docs/stable/indexing.html#indexing-view-versus-copy\n",
      "  self[name] = value\n"
     ]
    },
    {
     "name": "stdout",
     "output_type": "stream",
     "text": [
      "Timetaken 0    28.099525\n",
      "dtype: float64\n",
      "Timetaken 0    31.143522\n",
      "dtype: float64\n"
     ]
    },
    {
     "name": "stderr",
     "output_type": "stream",
     "text": [
      "/home/sarthak/anaconda3/lib/python3.7/site-packages/pandas/core/generic.py:5096: SettingWithCopyWarning: \n",
      "A value is trying to be set on a copy of a slice from a DataFrame.\n",
      "Try using .loc[row_indexer,col_indexer] = value instead\n",
      "\n",
      "See the caveats in the documentation: http://pandas.pydata.org/pandas-docs/stable/indexing.html#indexing-view-versus-copy\n",
      "  self[name] = value\n",
      "/home/sarthak/anaconda3/lib/python3.7/site-packages/pandas/core/generic.py:5096: SettingWithCopyWarning: \n",
      "A value is trying to be set on a copy of a slice from a DataFrame.\n",
      "Try using .loc[row_indexer,col_indexer] = value instead\n",
      "\n",
      "See the caveats in the documentation: http://pandas.pydata.org/pandas-docs/stable/indexing.html#indexing-view-versus-copy\n",
      "  self[name] = value\n"
     ]
    },
    {
     "name": "stdout",
     "output_type": "stream",
     "text": [
      "Timetaken 0    36.634411\n",
      "dtype: float64\n",
      "Timetaken 0    38.54097\n",
      "dtype: float64\n"
     ]
    },
    {
     "name": "stderr",
     "output_type": "stream",
     "text": [
      "/home/sarthak/anaconda3/lib/python3.7/site-packages/pandas/core/generic.py:5096: SettingWithCopyWarning: \n",
      "A value is trying to be set on a copy of a slice from a DataFrame.\n",
      "Try using .loc[row_indexer,col_indexer] = value instead\n",
      "\n",
      "See the caveats in the documentation: http://pandas.pydata.org/pandas-docs/stable/indexing.html#indexing-view-versus-copy\n",
      "  self[name] = value\n",
      "/home/sarthak/anaconda3/lib/python3.7/site-packages/pandas/core/generic.py:5096: SettingWithCopyWarning: \n",
      "A value is trying to be set on a copy of a slice from a DataFrame.\n",
      "Try using .loc[row_indexer,col_indexer] = value instead\n",
      "\n",
      "See the caveats in the documentation: http://pandas.pydata.org/pandas-docs/stable/indexing.html#indexing-view-versus-copy\n",
      "  self[name] = value\n"
     ]
    },
    {
     "name": "stdout",
     "output_type": "stream",
     "text": [
      "Timetaken 0    40.065862\n",
      "dtype: float64\n",
      "Timetaken 0    41.550839\n",
      "dtype: float64\n"
     ]
    },
    {
     "name": "stderr",
     "output_type": "stream",
     "text": [
      "/home/sarthak/anaconda3/lib/python3.7/site-packages/pandas/core/generic.py:5096: SettingWithCopyWarning: \n",
      "A value is trying to be set on a copy of a slice from a DataFrame.\n",
      "Try using .loc[row_indexer,col_indexer] = value instead\n",
      "\n",
      "See the caveats in the documentation: http://pandas.pydata.org/pandas-docs/stable/indexing.html#indexing-view-versus-copy\n",
      "  self[name] = value\n",
      "/home/sarthak/anaconda3/lib/python3.7/site-packages/pandas/core/generic.py:5096: SettingWithCopyWarning: \n",
      "A value is trying to be set on a copy of a slice from a DataFrame.\n",
      "Try using .loc[row_indexer,col_indexer] = value instead\n",
      "\n",
      "See the caveats in the documentation: http://pandas.pydata.org/pandas-docs/stable/indexing.html#indexing-view-versus-copy\n",
      "  self[name] = value\n"
     ]
    },
    {
     "name": "stdout",
     "output_type": "stream",
     "text": [
      "Timetaken 0    26.2279\n",
      "dtype: float64\n",
      "Timetaken 0    2.2335\n",
      "dtype: float64\n"
     ]
    },
    {
     "name": "stderr",
     "output_type": "stream",
     "text": [
      "/home/sarthak/anaconda3/lib/python3.7/site-packages/pandas/core/generic.py:5096: SettingWithCopyWarning: \n",
      "A value is trying to be set on a copy of a slice from a DataFrame.\n",
      "Try using .loc[row_indexer,col_indexer] = value instead\n",
      "\n",
      "See the caveats in the documentation: http://pandas.pydata.org/pandas-docs/stable/indexing.html#indexing-view-versus-copy\n",
      "  self[name] = value\n",
      "/home/sarthak/anaconda3/lib/python3.7/site-packages/pandas/core/generic.py:5096: SettingWithCopyWarning: \n",
      "A value is trying to be set on a copy of a slice from a DataFrame.\n",
      "Try using .loc[row_indexer,col_indexer] = value instead\n",
      "\n",
      "See the caveats in the documentation: http://pandas.pydata.org/pandas-docs/stable/indexing.html#indexing-view-versus-copy\n",
      "  self[name] = value\n"
     ]
    },
    {
     "name": "stdout",
     "output_type": "stream",
     "text": [
      "Timetaken 0    10.342895\n",
      "dtype: float64\n",
      "Timetaken 0    22.47227\n",
      "dtype: float64\n"
     ]
    },
    {
     "name": "stderr",
     "output_type": "stream",
     "text": [
      "/home/sarthak/anaconda3/lib/python3.7/site-packages/pandas/core/generic.py:5096: SettingWithCopyWarning: \n",
      "A value is trying to be set on a copy of a slice from a DataFrame.\n",
      "Try using .loc[row_indexer,col_indexer] = value instead\n",
      "\n",
      "See the caveats in the documentation: http://pandas.pydata.org/pandas-docs/stable/indexing.html#indexing-view-versus-copy\n",
      "  self[name] = value\n",
      "/home/sarthak/anaconda3/lib/python3.7/site-packages/pandas/core/generic.py:5096: SettingWithCopyWarning: \n",
      "A value is trying to be set on a copy of a slice from a DataFrame.\n",
      "Try using .loc[row_indexer,col_indexer] = value instead\n",
      "\n",
      "See the caveats in the documentation: http://pandas.pydata.org/pandas-docs/stable/indexing.html#indexing-view-versus-copy\n",
      "  self[name] = value\n"
     ]
    },
    {
     "name": "stdout",
     "output_type": "stream",
     "text": [
      "Timetaken 0    27.908259\n",
      "dtype: float64\n"
     ]
    },
    {
     "name": "stderr",
     "output_type": "stream",
     "text": [
      "/home/sarthak/anaconda3/lib/python3.7/site-packages/pandas/core/generic.py:5096: SettingWithCopyWarning: \n",
      "A value is trying to be set on a copy of a slice from a DataFrame.\n",
      "Try using .loc[row_indexer,col_indexer] = value instead\n",
      "\n",
      "See the caveats in the documentation: http://pandas.pydata.org/pandas-docs/stable/indexing.html#indexing-view-versus-copy\n",
      "  self[name] = value\n",
      "/home/sarthak/anaconda3/lib/python3.7/site-packages/pandas/core/generic.py:5096: SettingWithCopyWarning: \n",
      "A value is trying to be set on a copy of a slice from a DataFrame.\n",
      "Try using .loc[row_indexer,col_indexer] = value instead\n",
      "\n",
      "See the caveats in the documentation: http://pandas.pydata.org/pandas-docs/stable/indexing.html#indexing-view-versus-copy\n",
      "  self[name] = value\n"
     ]
    },
    {
     "name": "stdout",
     "output_type": "stream",
     "text": [
      "Timetaken 0    32.926057\n",
      "dtype: float64\n",
      "Timetaken 0    32.509419\n",
      "dtype: float64\n",
      "Timetaken 0    31.030544\n",
      "dtype: float64\n",
      "Timetaken 0    25.167498\n",
      "dtype: float64\n"
     ]
    },
    {
     "name": "stderr",
     "output_type": "stream",
     "text": [
      "/home/sarthak/anaconda3/lib/python3.7/site-packages/pandas/core/generic.py:5096: SettingWithCopyWarning: \n",
      "A value is trying to be set on a copy of a slice from a DataFrame.\n",
      "Try using .loc[row_indexer,col_indexer] = value instead\n",
      "\n",
      "See the caveats in the documentation: http://pandas.pydata.org/pandas-docs/stable/indexing.html#indexing-view-versus-copy\n",
      "  self[name] = value\n",
      "/home/sarthak/anaconda3/lib/python3.7/site-packages/pandas/core/generic.py:5096: SettingWithCopyWarning: \n",
      "A value is trying to be set on a copy of a slice from a DataFrame.\n",
      "Try using .loc[row_indexer,col_indexer] = value instead\n",
      "\n",
      "See the caveats in the documentation: http://pandas.pydata.org/pandas-docs/stable/indexing.html#indexing-view-versus-copy\n",
      "  self[name] = value\n"
     ]
    },
    {
     "name": "stdout",
     "output_type": "stream",
     "text": [
      "Timetaken 0    28.869757\n",
      "dtype: float64\n",
      "Timetaken 0    31.58275\n",
      "dtype: float64\n"
     ]
    },
    {
     "name": "stderr",
     "output_type": "stream",
     "text": [
      "/home/sarthak/anaconda3/lib/python3.7/site-packages/pandas/core/generic.py:5096: SettingWithCopyWarning: \n",
      "A value is trying to be set on a copy of a slice from a DataFrame.\n",
      "Try using .loc[row_indexer,col_indexer] = value instead\n",
      "\n",
      "See the caveats in the documentation: http://pandas.pydata.org/pandas-docs/stable/indexing.html#indexing-view-versus-copy\n",
      "  self[name] = value\n",
      "/home/sarthak/anaconda3/lib/python3.7/site-packages/pandas/core/generic.py:5096: SettingWithCopyWarning: \n",
      "A value is trying to be set on a copy of a slice from a DataFrame.\n",
      "Try using .loc[row_indexer,col_indexer] = value instead\n",
      "\n",
      "See the caveats in the documentation: http://pandas.pydata.org/pandas-docs/stable/indexing.html#indexing-view-versus-copy\n",
      "  self[name] = value\n"
     ]
    },
    {
     "name": "stdout",
     "output_type": "stream",
     "text": [
      "Timetaken 0    34.019581\n",
      "dtype: float64\n",
      "Timetaken 0    35.374441\n",
      "dtype: float64\n"
     ]
    },
    {
     "name": "stderr",
     "output_type": "stream",
     "text": [
      "/home/sarthak/anaconda3/lib/python3.7/site-packages/pandas/core/generic.py:5096: SettingWithCopyWarning: \n",
      "A value is trying to be set on a copy of a slice from a DataFrame.\n",
      "Try using .loc[row_indexer,col_indexer] = value instead\n",
      "\n",
      "See the caveats in the documentation: http://pandas.pydata.org/pandas-docs/stable/indexing.html#indexing-view-versus-copy\n",
      "  self[name] = value\n"
     ]
    },
    {
     "name": "stdout",
     "output_type": "stream",
     "text": [
      "Timetaken 0    37.302903\n",
      "dtype: float64\n",
      "Timetaken 0    41.29776\n",
      "dtype: float64\n"
     ]
    },
    {
     "name": "stderr",
     "output_type": "stream",
     "text": [
      "/home/sarthak/anaconda3/lib/python3.7/site-packages/pandas/core/generic.py:5096: SettingWithCopyWarning: \n",
      "A value is trying to be set on a copy of a slice from a DataFrame.\n",
      "Try using .loc[row_indexer,col_indexer] = value instead\n",
      "\n",
      "See the caveats in the documentation: http://pandas.pydata.org/pandas-docs/stable/indexing.html#indexing-view-versus-copy\n",
      "  self[name] = value\n",
      "/home/sarthak/anaconda3/lib/python3.7/site-packages/pandas/core/generic.py:5096: SettingWithCopyWarning: \n",
      "A value is trying to be set on a copy of a slice from a DataFrame.\n",
      "Try using .loc[row_indexer,col_indexer] = value instead\n",
      "\n",
      "See the caveats in the documentation: http://pandas.pydata.org/pandas-docs/stable/indexing.html#indexing-view-versus-copy\n",
      "  self[name] = value\n",
      "/home/sarthak/anaconda3/lib/python3.7/site-packages/pandas/core/generic.py:5096: SettingWithCopyWarning: \n",
      "A value is trying to be set on a copy of a slice from a DataFrame.\n",
      "Try using .loc[row_indexer,col_indexer] = value instead\n",
      "\n",
      "See the caveats in the documentation: http://pandas.pydata.org/pandas-docs/stable/indexing.html#indexing-view-versus-copy\n",
      "  self[name] = value\n"
     ]
    },
    {
     "name": "stdout",
     "output_type": "stream",
     "text": [
      "Timetaken 0    39.984676\n",
      "dtype: float64\n",
      "Timetaken 0    41.200101\n",
      "dtype: float64\n"
     ]
    },
    {
     "name": "stderr",
     "output_type": "stream",
     "text": [
      "/home/sarthak/anaconda3/lib/python3.7/site-packages/pandas/core/generic.py:5096: SettingWithCopyWarning: \n",
      "A value is trying to be set on a copy of a slice from a DataFrame.\n",
      "Try using .loc[row_indexer,col_indexer] = value instead\n",
      "\n",
      "See the caveats in the documentation: http://pandas.pydata.org/pandas-docs/stable/indexing.html#indexing-view-versus-copy\n",
      "  self[name] = value\n",
      "/home/sarthak/anaconda3/lib/python3.7/site-packages/pandas/core/generic.py:5096: SettingWithCopyWarning: \n",
      "A value is trying to be set on a copy of a slice from a DataFrame.\n",
      "Try using .loc[row_indexer,col_indexer] = value instead\n",
      "\n",
      "See the caveats in the documentation: http://pandas.pydata.org/pandas-docs/stable/indexing.html#indexing-view-versus-copy\n",
      "  self[name] = value\n"
     ]
    },
    {
     "name": "stdout",
     "output_type": "stream",
     "text": [
      "Timetaken 0    28.003906\n",
      "dtype: float64\n",
      "Timetaken 0    21.339327\n",
      "dtype: float64\n"
     ]
    },
    {
     "name": "stderr",
     "output_type": "stream",
     "text": [
      "/home/sarthak/anaconda3/lib/python3.7/site-packages/pandas/core/generic.py:5096: SettingWithCopyWarning: \n",
      "A value is trying to be set on a copy of a slice from a DataFrame.\n",
      "Try using .loc[row_indexer,col_indexer] = value instead\n",
      "\n",
      "See the caveats in the documentation: http://pandas.pydata.org/pandas-docs/stable/indexing.html#indexing-view-versus-copy\n",
      "  self[name] = value\n",
      "/home/sarthak/anaconda3/lib/python3.7/site-packages/pandas/core/generic.py:5096: SettingWithCopyWarning: \n",
      "A value is trying to be set on a copy of a slice from a DataFrame.\n",
      "Try using .loc[row_indexer,col_indexer] = value instead\n",
      "\n",
      "See the caveats in the documentation: http://pandas.pydata.org/pandas-docs/stable/indexing.html#indexing-view-versus-copy\n",
      "  self[name] = value\n"
     ]
    },
    {
     "name": "stdout",
     "output_type": "stream",
     "text": [
      "Timetaken 0    32.181578\n",
      "dtype: float64\n",
      "Timetaken 0    30.498956\n",
      "dtype: float64\n"
     ]
    },
    {
     "name": "stderr",
     "output_type": "stream",
     "text": [
      "/home/sarthak/anaconda3/lib/python3.7/site-packages/pandas/core/generic.py:5096: SettingWithCopyWarning: \n",
      "A value is trying to be set on a copy of a slice from a DataFrame.\n",
      "Try using .loc[row_indexer,col_indexer] = value instead\n",
      "\n",
      "See the caveats in the documentation: http://pandas.pydata.org/pandas-docs/stable/indexing.html#indexing-view-versus-copy\n",
      "  self[name] = value\n",
      "/home/sarthak/anaconda3/lib/python3.7/site-packages/pandas/core/generic.py:5096: SettingWithCopyWarning: \n",
      "A value is trying to be set on a copy of a slice from a DataFrame.\n",
      "Try using .loc[row_indexer,col_indexer] = value instead\n",
      "\n",
      "See the caveats in the documentation: http://pandas.pydata.org/pandas-docs/stable/indexing.html#indexing-view-versus-copy\n",
      "  self[name] = value\n",
      "/home/sarthak/anaconda3/lib/python3.7/site-packages/pandas/core/generic.py:5096: SettingWithCopyWarning: \n",
      "A value is trying to be set on a copy of a slice from a DataFrame.\n",
      "Try using .loc[row_indexer,col_indexer] = value instead\n",
      "\n",
      "See the caveats in the documentation: http://pandas.pydata.org/pandas-docs/stable/indexing.html#indexing-view-versus-copy\n",
      "  self[name] = value\n"
     ]
    },
    {
     "name": "stdout",
     "output_type": "stream",
     "text": [
      "Timetaken 0    30.06744\n",
      "dtype: float64\n",
      "Timetaken 0    31.925801\n",
      "dtype: float64\n"
     ]
    },
    {
     "name": "stderr",
     "output_type": "stream",
     "text": [
      "/home/sarthak/anaconda3/lib/python3.7/site-packages/pandas/core/generic.py:5096: SettingWithCopyWarning: \n",
      "A value is trying to be set on a copy of a slice from a DataFrame.\n",
      "Try using .loc[row_indexer,col_indexer] = value instead\n",
      "\n",
      "See the caveats in the documentation: http://pandas.pydata.org/pandas-docs/stable/indexing.html#indexing-view-versus-copy\n",
      "  self[name] = value\n"
     ]
    },
    {
     "name": "stdout",
     "output_type": "stream",
     "text": [
      "Timetaken 0    20.86813\n",
      "dtype: float64\n",
      "Timetaken 0    24.284652\n",
      "dtype: float64\n"
     ]
    },
    {
     "name": "stderr",
     "output_type": "stream",
     "text": [
      "/home/sarthak/anaconda3/lib/python3.7/site-packages/pandas/core/generic.py:5096: SettingWithCopyWarning: \n",
      "A value is trying to be set on a copy of a slice from a DataFrame.\n",
      "Try using .loc[row_indexer,col_indexer] = value instead\n",
      "\n",
      "See the caveats in the documentation: http://pandas.pydata.org/pandas-docs/stable/indexing.html#indexing-view-versus-copy\n",
      "  self[name] = value\n",
      "/home/sarthak/anaconda3/lib/python3.7/site-packages/pandas/core/generic.py:5096: SettingWithCopyWarning: \n",
      "A value is trying to be set on a copy of a slice from a DataFrame.\n",
      "Try using .loc[row_indexer,col_indexer] = value instead\n",
      "\n",
      "See the caveats in the documentation: http://pandas.pydata.org/pandas-docs/stable/indexing.html#indexing-view-versus-copy\n",
      "  self[name] = value\n"
     ]
    },
    {
     "name": "stdout",
     "output_type": "stream",
     "text": [
      "Timetaken 0    18.41467\n",
      "dtype: float64\n",
      "Timetaken 0    1.652724\n",
      "dtype: float64\n"
     ]
    },
    {
     "name": "stderr",
     "output_type": "stream",
     "text": [
      "/home/sarthak/anaconda3/lib/python3.7/site-packages/pandas/core/generic.py:5096: SettingWithCopyWarning: \n",
      "A value is trying to be set on a copy of a slice from a DataFrame.\n",
      "Try using .loc[row_indexer,col_indexer] = value instead\n",
      "\n",
      "See the caveats in the documentation: http://pandas.pydata.org/pandas-docs/stable/indexing.html#indexing-view-versus-copy\n",
      "  self[name] = value\n",
      "/home/sarthak/anaconda3/lib/python3.7/site-packages/pandas/core/generic.py:5096: SettingWithCopyWarning: \n",
      "A value is trying to be set on a copy of a slice from a DataFrame.\n",
      "Try using .loc[row_indexer,col_indexer] = value instead\n",
      "\n",
      "See the caveats in the documentation: http://pandas.pydata.org/pandas-docs/stable/indexing.html#indexing-view-versus-copy\n",
      "  self[name] = value\n"
     ]
    },
    {
     "name": "stdout",
     "output_type": "stream",
     "text": [
      "Timetaken 0    0.027308\n",
      "dtype: float64\n"
     ]
    },
    {
     "name": "stderr",
     "output_type": "stream",
     "text": [
      "/home/sarthak/anaconda3/lib/python3.7/site-packages/pandas/core/generic.py:5096: SettingWithCopyWarning: \n",
      "A value is trying to be set on a copy of a slice from a DataFrame.\n",
      "Try using .loc[row_indexer,col_indexer] = value instead\n",
      "\n",
      "See the caveats in the documentation: http://pandas.pydata.org/pandas-docs/stable/indexing.html#indexing-view-versus-copy\n",
      "  self[name] = value\n"
     ]
    },
    {
     "name": "stdout",
     "output_type": "stream",
     "text": [
      "Timetaken 0    11.580976\n",
      "dtype: float64\n",
      "Timetaken 0    3.048341\n",
      "dtype: float64\n"
     ]
    },
    {
     "name": "stderr",
     "output_type": "stream",
     "text": [
      "/home/sarthak/anaconda3/lib/python3.7/site-packages/pandas/core/generic.py:5096: SettingWithCopyWarning: \n",
      "A value is trying to be set on a copy of a slice from a DataFrame.\n",
      "Try using .loc[row_indexer,col_indexer] = value instead\n",
      "\n",
      "See the caveats in the documentation: http://pandas.pydata.org/pandas-docs/stable/indexing.html#indexing-view-versus-copy\n",
      "  self[name] = value\n",
      "/home/sarthak/anaconda3/lib/python3.7/site-packages/pandas/core/generic.py:5096: SettingWithCopyWarning: \n",
      "A value is trying to be set on a copy of a slice from a DataFrame.\n",
      "Try using .loc[row_indexer,col_indexer] = value instead\n",
      "\n",
      "See the caveats in the documentation: http://pandas.pydata.org/pandas-docs/stable/indexing.html#indexing-view-versus-copy\n",
      "  self[name] = value\n"
     ]
    },
    {
     "name": "stdout",
     "output_type": "stream",
     "text": [
      "Timetaken 0    28.488101\n",
      "dtype: float64\n",
      "Timetaken 0    32.250232\n",
      "dtype: float64\n"
     ]
    },
    {
     "name": "stderr",
     "output_type": "stream",
     "text": [
      "/home/sarthak/anaconda3/lib/python3.7/site-packages/pandas/core/generic.py:5096: SettingWithCopyWarning: \n",
      "A value is trying to be set on a copy of a slice from a DataFrame.\n",
      "Try using .loc[row_indexer,col_indexer] = value instead\n",
      "\n",
      "See the caveats in the documentation: http://pandas.pydata.org/pandas-docs/stable/indexing.html#indexing-view-versus-copy\n",
      "  self[name] = value\n",
      "/home/sarthak/anaconda3/lib/python3.7/site-packages/pandas/core/generic.py:5096: SettingWithCopyWarning: \n",
      "A value is trying to be set on a copy of a slice from a DataFrame.\n",
      "Try using .loc[row_indexer,col_indexer] = value instead\n",
      "\n",
      "See the caveats in the documentation: http://pandas.pydata.org/pandas-docs/stable/indexing.html#indexing-view-versus-copy\n",
      "  self[name] = value\n"
     ]
    },
    {
     "name": "stdout",
     "output_type": "stream",
     "text": [
      "Timetaken 0    31.372812\n",
      "dtype: float64\n",
      "Timetaken"
     ]
    },
    {
     "name": "stderr",
     "output_type": "stream",
     "text": [
      "/home/sarthak/anaconda3/lib/python3.7/site-packages/pandas/core/generic.py:5096: SettingWithCopyWarning: \n",
      "A value is trying to be set on a copy of a slice from a DataFrame.\n",
      "Try using .loc[row_indexer,col_indexer] = value instead\n",
      "\n",
      "See the caveats in the documentation: http://pandas.pydata.org/pandas-docs/stable/indexing.html#indexing-view-versus-copy\n",
      "  self[name] = value\n",
      "/home/sarthak/anaconda3/lib/python3.7/site-packages/pandas/core/generic.py:5096: SettingWithCopyWarning: \n",
      "A value is trying to be set on a copy of a slice from a DataFrame.\n",
      "Try using .loc[row_indexer,col_indexer] = value instead\n",
      "\n",
      "See the caveats in the documentation: http://pandas.pydata.org/pandas-docs/stable/indexing.html#indexing-view-versus-copy\n",
      "  self[name] = value\n"
     ]
    },
    {
     "name": "stdout",
     "output_type": "stream",
     "text": [
      " 0    31.508905\n",
      "dtype: float64\n",
      "Timetaken 0    28.343382\n",
      "dtype: float64\n"
     ]
    },
    {
     "name": "stderr",
     "output_type": "stream",
     "text": [
      "/home/sarthak/anaconda3/lib/python3.7/site-packages/pandas/core/generic.py:5096: SettingWithCopyWarning: \n",
      "A value is trying to be set on a copy of a slice from a DataFrame.\n",
      "Try using .loc[row_indexer,col_indexer] = value instead\n",
      "\n",
      "See the caveats in the documentation: http://pandas.pydata.org/pandas-docs/stable/indexing.html#indexing-view-versus-copy\n",
      "  self[name] = value\n",
      "/home/sarthak/anaconda3/lib/python3.7/site-packages/pandas/core/generic.py:5096: SettingWithCopyWarning: \n",
      "A value is trying to be set on a copy of a slice from a DataFrame.\n",
      "Try using .loc[row_indexer,col_indexer] = value instead\n",
      "\n",
      "See the caveats in the documentation: http://pandas.pydata.org/pandas-docs/stable/indexing.html#indexing-view-versus-copy\n",
      "  self[name] = value\n"
     ]
    },
    {
     "name": "stdout",
     "output_type": "stream",
     "text": [
      "Timetaken 0    30.87601\n",
      "dtype: float64\n",
      "Timetaken 0    22.248809\n",
      "dtype: float64\n"
     ]
    },
    {
     "name": "stderr",
     "output_type": "stream",
     "text": [
      "/home/sarthak/anaconda3/lib/python3.7/site-packages/pandas/core/generic.py:5096: SettingWithCopyWarning: \n",
      "A value is trying to be set on a copy of a slice from a DataFrame.\n",
      "Try using .loc[row_indexer,col_indexer] = value instead\n",
      "\n",
      "See the caveats in the documentation: http://pandas.pydata.org/pandas-docs/stable/indexing.html#indexing-view-versus-copy\n",
      "  self[name] = value\n",
      "/home/sarthak/anaconda3/lib/python3.7/site-packages/pandas/core/generic.py:5096: SettingWithCopyWarning: \n",
      "A value is trying to be set on a copy of a slice from a DataFrame.\n",
      "Try using .loc[row_indexer,col_indexer] = value instead\n",
      "\n",
      "See the caveats in the documentation: http://pandas.pydata.org/pandas-docs/stable/indexing.html#indexing-view-versus-copy\n",
      "  self[name] = value\n"
     ]
    },
    {
     "name": "stdout",
     "output_type": "stream",
     "text": [
      "Timetaken 0    1.324865\n",
      "dtype: float64\n",
      "Timetaken"
     ]
    },
    {
     "name": "stderr",
     "output_type": "stream",
     "text": [
      "/home/sarthak/anaconda3/lib/python3.7/site-packages/pandas/core/generic.py:5096: SettingWithCopyWarning: \n",
      "A value is trying to be set on a copy of a slice from a DataFrame.\n",
      "Try using .loc[row_indexer,col_indexer] = value instead\n",
      "\n",
      "See the caveats in the documentation: http://pandas.pydata.org/pandas-docs/stable/indexing.html#indexing-view-versus-copy\n",
      "  self[name] = value\n",
      "/home/sarthak/anaconda3/lib/python3.7/site-packages/pandas/core/generic.py:5096: SettingWithCopyWarning: \n",
      "A value is trying to be set on a copy of a slice from a DataFrame.\n",
      "Try using .loc[row_indexer,col_indexer] = value instead\n",
      "\n",
      "See the caveats in the documentation: http://pandas.pydata.org/pandas-docs/stable/indexing.html#indexing-view-versus-copy\n",
      "  self[name] = value\n"
     ]
    },
    {
     "name": "stdout",
     "output_type": "stream",
     "text": [
      " 0    2.584411\n",
      "dtype: float64\n",
      "Timetaken 0    23.048332\n",
      "dtype: float64\n",
      "Timetaken 0    33.145992\n",
      "dtype: float64\n"
     ]
    }
   ],
   "source": [
    "duration = 0;\n",
    "\n",
    "for i in range(99):\n",
    "    LATLON1 = tf.loc[0, genConcat(\"LATLONG\", i+1)]\n",
    "    LATLON2 = tf.loc[0, genConcat(\"LATLONG\", i+2)]\n",
    "    trainrow.LAT1 = generateLAT(LATLON1)\n",
    "    trainrow.LON1 = generateLON(LATLON1)\n",
    "    trainrow.LAT2 = generateLAT(LATLON2)\n",
    "    trainrow.LON2 = generateLON(LATLON2)\n",
    "    trainrow.Timestamp = time\n",
    "    trainrow.Angle = int(angleFromCoordinate(trainrow.LAT1, trainrow.LON1, trainrow.LAT2, trainrow.LON2))\n",
    "    trainrow.East = east(trainrow.Angle.all())\n",
    "    trainrow.West = west(trainrow.Angle.all())\n",
    "    trainrow.North = north(trainrow.Angle.all())\n",
    "    trainrow.South = south(trainrow.Angle.all())\n",
    "    \n",
    "    coorddistance = Haversine(trainrow.LAT1, trainrow.LON1, trainrow.LAT2, trainrow.LON2)*1000\n",
    "    \n",
    "    speed = model.predict(trainrow)\n",
    "    timetaken = coorddistance/speed\n",
    "    \n",
    "    time+=timetaken\n",
    "    duration += timetaken\n",
    "    \n",
    "    print(\"Timetaken\",  timetaken)\n",
    "    \n"
   ]
  },
  {
   "cell_type": "code",
   "execution_count": 34,
   "metadata": {},
   "outputs": [
    {
     "name": "stdout",
     "output_type": "stream",
     "text": [
      "0    3302.467304\n",
      "dtype: float64\n",
      "0    2786.111377\n",
      "dtype: float64\n"
     ]
    }
   ],
   "source": [
    "print(time)\n",
    "print(duration)"
   ]
  },
  {
   "cell_type": "code",
   "execution_count": 40,
   "metadata": {},
   "outputs": [
    {
     "name": "stdout",
     "output_type": "stream",
     "text": [
      "7982.200000000001\n"
     ]
    }
   ],
   "source": [
    "distance = 0\n",
    "\n",
    "for i in range(1, 100):\n",
    "    LATLON1 = tf.loc[0, genConcat(\"LATLONG\", i)]\n",
    "    LATLON2 = tf.loc[0, genConcat(\"LATLONG\", i+1)]\n",
    "\n",
    "    LAT1 = generateLAT(LATLON1)\n",
    "    LON1 = generateLON(LATLON1)\n",
    "    LAT2 = generateLAT(LATLON2)\n",
    "    LON2 = generateLON(LATLON2)\n",
    "\n",
    "    distance += Haversine(LAT1, LON1, LAT2, LON2)*1000\n",
    "    \n",
    "print(distance)    "
   ]
  }
 ],
 "metadata": {
  "kernelspec": {
   "display_name": "Python 3",
   "language": "python",
   "name": "python3"
  },
  "language_info": {
   "codemirror_mode": {
    "name": "ipython",
    "version": 3
   },
   "file_extension": ".py",
   "mimetype": "text/x-python",
   "name": "python",
   "nbconvert_exporter": "python",
   "pygments_lexer": "ipython3",
   "version": "3.6.8"
  }
 },
 "nbformat": 4,
 "nbformat_minor": 2
}
